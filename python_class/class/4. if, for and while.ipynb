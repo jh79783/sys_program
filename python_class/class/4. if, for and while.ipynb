{
 "cells": [
  {
   "cell_type": "code",
   "execution_count": 1,
   "metadata": {},
   "outputs": [],
   "source": [
    "marvel_heroes = [\"iron man\", \"thor\", \"hulk\", \"spider man\", \"black widow\", \"capt. america\", \"capt. marvel\"]\n",
    "dc_heroes = [\"batman\", \"superman\", \"aquaman\", \"wonder woman\", \"harley quinn\"]\n",
    "all_heros = marvel_heroes + dc_heroes"
   ]
  },
  {
   "cell_type": "code",
   "execution_count": 2,
   "metadata": {},
   "outputs": [],
   "source": [
    "myhero = \"batman\"\n",
    "if myhero in marvel_heroes:\n",
    "    print(f\"{myhero}: Avengers are super cool!\")\n",
    "elif myhero in dc_heroes:\n",
    "    print(f\"{myhero}: We save martha...\")\n",
    "else:\n",
    "    print(f\"{myhero}: We are villains!!\")\n"
   ]
  },
  {
   "cell_type": "code",
   "execution_count": 3,
   "metadata": {},
   "outputs": [],
   "source": [
    "print(\"list of marvel heroes\")\n",
    "for hero in marvel_heroes:\n",
    "    print(f\"    {hero}\")"
   ]
  },
  {
   "cell_type": "code",
   "execution_count": 4,
   "metadata": {},
   "outputs": [],
   "source": [
    "print(\"list of dc heroes\")\n",
    "for i in range(len(dc_heroes)):\n",
    "    print(f\"{i})  {dc_heroes[i]}\")"
   ]
  },
  {
   "cell_type": "code",
   "execution_count": 5,
   "metadata": {},
   "outputs": [],
   "source": [
    "print(range(len(dc_heroes)))"
   ]
  },
  {
   "cell_type": "code",
   "execution_count": 6,
   "metadata": {},
   "outputs": [
    {
     "name": "stdout",
     "output_type": "stream",
     "text": [
      "DC's male heroes ends with 'man'\n",
      "    batman\n",
      "    superman\n",
      "    aquaman\n",
      "    wonder woman\n"
     ]
    }
   ],
   "source": [
    "i = 0\n",
    "print(\"DC's male heroes ends with 'man'\")\n",
    "while i < len(dc_heroes) and dc_heroes[i].endswith('man'):\n",
    "    print(f\"    {dc_heroes[i]}\")\n",
    "    i += 1"
   ]
  },
  {
   "cell_type": "code",
   "execution_count": 7,
   "metadata": {},
   "outputs": [
    {
     "name": "stdout",
     "output_type": "stream",
     "text": [
      "    iron man is cool\n",
      "    thor is cool\n",
      "    hulk is cool\n",
      "    Peter Parker by Tobey Maguire was not a kid: \"With great power comes great responsibility.\"\n",
      "    black widow is cool\n",
      "    One hero is enough. Let me stop here\n"
     ]
    }
   ],
   "source": [
    "for hero in marvel_heroes:\n",
    "    if hero.startswith(\"spider\"):\n",
    "        \n",
    "        print(\"    Peter Parker by Tobey Maguire was not a kid: \\\"With great power comes great responsibility.\\\"\")\n",
    "        continue\n",
    "    if hero.startswith(\"capt\"):\n",
    "        print(\"    One hero is enough. Let me stop here\")\n",
    "        break\n",
    "    print(f\"    {hero} is cool\")\n",
    "    "
   ]
  },
  {
   "cell_type": "code",
   "execution_count": 8,
   "metadata": {},
   "outputs": [
    {
     "name": "stdout",
     "output_type": "stream",
     "text": [
      "Press 'q' to quit\n",
      "type dc hero's name\n",
      "q\n"
     ]
    }
   ],
   "source": [
    "name = None\n",
    "print(\"Press 'q' to quit\")\n",
    "while name != 'q':\n",
    "    print(\"type dc hero's name\")\n",
    "    name = input()\n",
    "    if name is 'q':\n",
    "        break\n",
    "    if name not in dc_heroes:\n",
    "        print(f\"{name} is not dc hero\")\n",
    "        continue\n",
    "    index = dc_heroes.index(name)\n",
    "    print(f\"{name}'s index =\", index)"
   ]
  },
  {
   "cell_type": "code",
   "execution_count": 9,
   "metadata": {},
   "outputs": [
    {
     "name": "stdout",
     "output_type": "stream",
     "text": [
      "0 iron man\n",
      "1 thor\n",
      "2 hulk\n",
      "3 spider man\n",
      "4 black widow\n"
     ]
    }
   ],
   "source": [
    "for index, hero in enumerate(marvel_heroes):\n",
    "    print(index, hero)\n",
    "    if index > 3:\n",
    "        break"
   ]
  },
  {
   "cell_type": "code",
   "execution_count": 10,
   "metadata": {},
   "outputs": [
    {
     "name": "stdout",
     "output_type": "stream",
     "text": [
      "What does enumerate return? <enumerate object at 0x0000016B30413D68>\n"
     ]
    }
   ],
   "source": [
    "print(\"What does enumerate return?\", enumerate(marvel_heroes))"
   ]
  },
  {
   "cell_type": "code",
   "execution_count": 11,
   "metadata": {},
   "outputs": [
    {
     "name": "stdout",
     "output_type": "stream",
     "text": [
      "What does enumerate return? [(0, 'iron man'), (1, 'thor'), (2, 'hulk'), (3, 'spider man'), (4, 'black widow'), (5, 'capt. america'), (6, 'capt. marvel')]\n"
     ]
    }
   ],
   "source": [
    "print(\"What does enumerate return?\", list(enumerate(marvel_heroes)))"
   ]
  },
  {
   "cell_type": "code",
   "execution_count": 12,
   "metadata": {},
   "outputs": [],
   "source": [
    "index, hero = (0, \"iron man\")"
   ]
  },
  {
   "cell_type": "code",
   "execution_count": 13,
   "metadata": {},
   "outputs": [
    {
     "name": "stdout",
     "output_type": "stream",
     "text": [
      "iron man vs batman\n",
      "thor vs superman\n",
      "hulk vs aquaman\n",
      "spider man vs wonder woman\n",
      "black widow vs harley quinn\n"
     ]
    }
   ],
   "source": [
    "for index in range(len(dc_heroes)):\n",
    "    print(f\"{marvel_heroes[index]} vs {dc_heroes[index]}\")"
   ]
  },
  {
   "cell_type": "code",
   "execution_count": 14,
   "metadata": {},
   "outputs": [
    {
     "name": "stdout",
     "output_type": "stream",
     "text": [
      "iron man vs batman\n",
      "thor vs superman\n",
      "hulk vs aquaman\n",
      "spider man vs wonder woman\n",
      "black widow vs harley quinn\n"
     ]
    }
   ],
   "source": [
    "for mvhero, dchero in zip(marvel_heroes, dc_heroes):\n",
    "    print(f\"{mvhero} vs {dchero}\")"
   ]
  },
  {
   "cell_type": "code",
   "execution_count": 15,
   "metadata": {},
   "outputs": [
    {
     "name": "stdout",
     "output_type": "stream",
     "text": [
      "what does zip return? <zip object at 0x0000016B3041BD48>\n",
      "[('iron man', 'batman'), ('thor', 'superman'), ('hulk', 'aquaman'), ('spider man', 'wonder woman'), ('black widow', 'harley quinn')]\n"
     ]
    }
   ],
   "source": [
    "print(\"what does zip return?\", zip(marvel_heroes, dc_heroes))\n",
    "print(list(zip(marvel_heroes, dc_heroes)))"
   ]
  },
  {
   "cell_type": "code",
   "execution_count": 16,
   "metadata": {},
   "outputs": [],
   "source": [
    "mvhero, dchero = ('iron man', 'batman')"
   ]
  },
  {
   "cell_type": "code",
   "execution_count": 17,
   "metadata": {},
   "outputs": [
    {
     "name": "stdout",
     "output_type": "stream",
     "text": [
      "[(0, ('iron man', 'batman')), (1, ('thor', 'superman')), (2, ('hulk', 'aquaman')), (3, ('spider man', 'wonder woman')), (4, ('black widow', 'harley quinn'))]\n"
     ]
    }
   ],
   "source": [
    "print(list( enumerate(zip(marvel_heroes, dc_heroes))))"
   ]
  },
  {
   "cell_type": "code",
   "execution_count": 18,
   "metadata": {},
   "outputs": [
    {
     "name": "stdout",
     "output_type": "stream",
     "text": [
      "0) iron man vs batman\n",
      "1) thor vs superman\n",
      "2) hulk vs aquaman\n",
      "3) spider man vs wonder woman\n",
      "4) black widow vs harley quinn\n"
     ]
    }
   ],
   "source": [
    "for index, (mvhero, dchero) in enumerate(zip(marvel_heroes, dc_heroes)):\n",
    "    print(f\"{index}) {mvhero} vs {dchero}\")"
   ]
  },
  {
   "cell_type": "code",
   "execution_count": 19,
   "metadata": {},
   "outputs": [
    {
     "name": "stdout",
     "output_type": "stream",
     "text": [
      "\n",
      "print only 3 pairs of marvel and dc heroes\n",
      "iron man vs batman: batman win!\n",
      "thor vs superman: thor win!\n",
      "hulk vs aquaman: aquaman win!\n"
     ]
    }
   ],
   "source": [
    "print(\"\\nprint only 3 pairs of marvel and dc heroes\")\n",
    "for ind, (mv, dc) in enumerate(zip(marvel_heroes, dc_heroes)):\n",
    "    if ind >= 3:\n",
    "        break\n",
    "    if ind % 2 == 1:\n",
    "        print(\"{0} vs {1}: {0} win!\".format(mv, dc))\n",
    "    else:\n",
    "        print(\"{0} vs {1}: {1} win!\".format(mv, dc))"
   ]
  },
  {
   "cell_type": "code",
   "execution_count": 20,
   "metadata": {
    "scrolled": true
   },
   "outputs": [
    {
     "name": "stdout",
     "output_type": "stream",
     "text": [
      "create a new list from the existing list\n",
      "super heroes ['iron man_super', 'thor_super', 'hulk_super', 'spider man_super', 'black widow_super', 'capt. america_super', 'capt. marvel_super']\n"
     ]
    }
   ],
   "source": [
    "print(\"create a new list from the existing list\")\n",
    "super_heroes = []\n",
    "for hero in marvel_heroes:\n",
    "    super_heroes.append(hero + \"_super\")\n",
    "print(\"super heroes\", super_heroes)"
   ]
  },
  {
   "cell_type": "code",
   "execution_count": 21,
   "metadata": {},
   "outputs": [
    {
     "name": "stdout",
     "output_type": "stream",
     "text": [
      "extract a subset of the existing list\n",
      "man heroes: ['iron man', 'spider man']\n"
     ]
    }
   ],
   "source": [
    "print(\"extract a subset of the existing list\")\n",
    "man_heroes = []\n",
    "for hero in marvel_heroes:\n",
    "    if hero.endswith(\"man\"):\n",
    "        man_heroes.append(hero)\n",
    "print(\"man heroes:\", man_heroes)"
   ]
  },
  {
   "cell_type": "code",
   "execution_count": 22,
   "metadata": {},
   "outputs": [
    {
     "name": "stdout",
     "output_type": "stream",
     "text": [
      "create a new list by list comprehension\n",
      "super heroes ['iron man_super', 'thor_super', 'hulk_super', 'spider man_super', 'black widow_super', 'capt. america_super', 'capt. marvel_super']\n"
     ]
    }
   ],
   "source": [
    "print(\"create a new list by list comprehension\")\n",
    "super_heroes = [hero + \"_super\" for hero in marvel_heroes]\n",
    "print(\"super heroes\", super_heroes)"
   ]
  },
  {
   "cell_type": "code",
   "execution_count": 23,
   "metadata": {},
   "outputs": [
    {
     "name": "stdout",
     "output_type": "stream",
     "text": [
      "['batman_hot', 'superman_hot', 'aquaman_hot', 'wonder woman_hot', 'harley quinn_hot']\n"
     ]
    }
   ],
   "source": [
    "dchot_heroes = [dchero + \"_hot\" for dchero in dc_heroes]\n",
    "print(dchot_heroes)"
   ]
  },
  {
   "cell_type": "code",
   "execution_count": 24,
   "metadata": {},
   "outputs": [
    {
     "name": "stdout",
     "output_type": "stream",
     "text": [
      "['iron man_super', 'thor_super', 'hulk_super', 'spider man_super', 'black widow_super', 'capt. america_super', 'capt. marvel_super']\n",
      "['iron man_super', 'thor_super', 'hulk_super', 'spider man_super', 'black widow_super', 'capt. america_super', 'capt. marvel_super', 'superman']\n",
      "['iron man_super', 'thor_super', 'hulk_super', 'spider man_super', 'black widow_super', 'capt. america_super', 'capt. marvel_super', 'superman']\n"
     ]
    }
   ],
   "source": [
    "print(super_heroes)\n",
    "other_heroes = super_heroes\n",
    "other_heroes.append(\"superman\")\n",
    "print(other_heroes)\n",
    "print(super_heroes)"
   ]
  },
  {
   "cell_type": "code",
   "execution_count": 25,
   "metadata": {},
   "outputs": [
    {
     "name": "stdout",
     "output_type": "stream",
     "text": [
      "['iron man', 'thor', 'hulk', 'spider man', 'black widow', 'capt. america', 'capt. marvel']\n",
      "['iron man', 'thor', 'hulk', 'spider man', 'black widow', 'capt. america', 'capt. marvel', 'superman']\n",
      "['iron man', 'thor', 'hulk', 'spider man', 'black widow', 'capt. america', 'capt. marvel']\n"
     ]
    }
   ],
   "source": [
    "import copy\n",
    "print(marvel_heroes)\n",
    "other_heroes = copy.deepcopy(marvel_heroes)\n",
    "other_heroes.append(\"superman\")\n",
    "print(other_heroes)\n",
    "print(marvel_heroes)"
   ]
  },
  {
   "cell_type": "code",
   "execution_count": 28,
   "metadata": {},
   "outputs": [
    {
     "name": "stdout",
     "output_type": "stream",
     "text": [
      "['iron man', 'thor', 'hulk', 'spider man', 'black widow', 'capt. america', 'capt. marvel']\n"
     ]
    }
   ],
   "source": [
    "other_heroes = [hero for hero in marvel_heroes]\n",
    "print(other_heroes)"
   ]
  },
  {
   "cell_type": "code",
   "execution_count": 29,
   "metadata": {},
   "outputs": [
    {
     "name": "stdout",
     "output_type": "stream",
     "text": [
      "['iron man', 'spider man']\n"
     ]
    }
   ],
   "source": [
    "man_heroes = [hero for hero in marvel_heroes if hero.endswith(\"man\")]\n",
    "print(man_heroes)"
   ]
  },
  {
   "cell_type": "code",
   "execution_count": 30,
   "metadata": {},
   "outputs": [
    {
     "name": "stdout",
     "output_type": "stream",
     "text": [
      "[0, 1, 2, 3, 4, 5, 6, 7, 8, 9]\n"
     ]
    }
   ],
   "source": [
    "integers = list(range(10))\n",
    "print(integers)"
   ]
  },
  {
   "cell_type": "code",
   "execution_count": 32,
   "metadata": {},
   "outputs": [
    {
     "name": "stdout",
     "output_type": "stream",
     "text": [
      "[10, 11, 14, 19, 26, 35, 46, 59, 74, 91]\n"
     ]
    }
   ],
   "source": [
    "squares = [integ**2 + 10 for integ in integers]\n",
    "print(squares)"
   ]
  },
  {
   "cell_type": "code",
   "execution_count": 35,
   "metadata": {},
   "outputs": [
    {
     "name": "stdout",
     "output_type": "stream",
     "text": [
      "{'iron man': 'suit', 'thor': 'Mjölnir', 'hulk': 'physical power', 'spider man': 'spider web'}\n"
     ]
    }
   ],
   "source": [
    "abilities = [\"suit\", \"Mjölnir\", \"physical power\", \"spider web\"]\n",
    "heroes = {name: power for name, power in zip(marvel_heroes, abilities)}\n",
    "print(heroes)"
   ]
  },
  {
   "cell_type": "code",
   "execution_count": null,
   "metadata": {},
   "outputs": [],
   "source": []
  }
 ],
 "metadata": {
  "kernelspec": {
   "display_name": "Python 3",
   "language": "python",
   "name": "python3"
  },
  "language_info": {
   "codemirror_mode": {
    "name": "ipython",
    "version": 3
   },
   "file_extension": ".py",
   "mimetype": "text/x-python",
   "name": "python",
   "nbconvert_exporter": "python",
   "pygments_lexer": "ipython3",
   "version": "3.7.4"
  }
 },
 "nbformat": 4,
 "nbformat_minor": 4
}
