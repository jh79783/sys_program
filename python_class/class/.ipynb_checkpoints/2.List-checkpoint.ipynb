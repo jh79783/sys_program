{
 "cells": [
  {
   "cell_type": "code",
   "execution_count": 1,
   "metadata": {},
   "outputs": [],
   "source": [
    "basic_list = [\"Hello\", 1234, 1.234, True]\n",
    "depth2_list = [\"Hello\", 1234, [1.234, True]]\n",
    "depth3_list = [[\"Hello\"], [1234, [1.234, True]]]"
   ]
  },
  {
   "cell_type": "code",
   "execution_count": 2,
   "metadata": {},
   "outputs": [
    {
     "name": "stdout",
     "output_type": "stream",
     "text": [
      "from basic_list: 1.234\n"
     ]
    }
   ],
   "source": [
    "print(\"from basic_list:\", basic_list[2])"
   ]
  },
  {
   "cell_type": "code",
   "execution_count": 3,
   "metadata": {},
   "outputs": [
    {
     "name": "stdout",
     "output_type": "stream",
     "text": [
      "from depth2_list [1.234, True]\n",
      "from depth2_list 1.234\n"
     ]
    }
   ],
   "source": [
    "print(\"from depth2_list\", depth2_list[2])\n",
    "print(\"from depth2_list\", depth2_list[2][0])"
   ]
  },
  {
   "cell_type": "code",
   "execution_count": 4,
   "metadata": {},
   "outputs": [
    {
     "name": "stdout",
     "output_type": "stream",
     "text": [
      "frome depth3_list: [1234, [1.234, True]]\n",
      "frome depth3_list: [1.234, True]\n",
      "frome depth3_list: 1.234\n"
     ]
    }
   ],
   "source": [
    "print(\"frome depth3_list:\", depth3_list[1])\n",
    "print(\"frome depth3_list:\", depth3_list[1][1])\n",
    "print(\"frome depth3_list:\", depth3_list[1][1][0])"
   ]
  },
  {
   "cell_type": "code",
   "execution_count": 5,
   "metadata": {},
   "outputs": [
    {
     "name": "stdout",
     "output_type": "stream",
     "text": [
      "negative indexing: 1234\n"
     ]
    }
   ],
   "source": [
    "print(\"negative indexing:\", basic_list[-3])"
   ]
  },
  {
   "cell_type": "code",
   "execution_count": 6,
   "metadata": {},
   "outputs": [
    {
     "name": "stdout",
     "output_type": "stream",
     "text": [
      "source list: ['Hello', 1234, 1.234, True]\n",
      "[start:end] [1234, 1.234]\n"
     ]
    }
   ],
   "source": [
    "print(\"source list:\", basic_list)\n",
    "print(\"[start:end]\", basic_list[1:3])"
   ]
  },
  {
   "cell_type": "code",
   "execution_count": 7,
   "metadata": {},
   "outputs": [
    {
     "name": "stdout",
     "output_type": "stream",
     "text": [
      "[start:] [1.234, True]\n",
      "[:end] ['Hello', 1234]\n"
     ]
    }
   ],
   "source": [
    "print(\"[start:]\", basic_list[2:])\n",
    "print(\"[:end]\", basic_list[:2])"
   ]
  },
  {
   "cell_type": "code",
   "execution_count": 8,
   "metadata": {},
   "outputs": [
    {
     "name": "stdout",
     "output_type": "stream",
     "text": [
      "[start:negative_end] [1234, 1.234]\n"
     ]
    }
   ],
   "source": [
    "print(\"[start:negative_end]\", basic_list[1:-1])"
   ]
  },
  {
   "cell_type": "code",
   "execution_count": 9,
   "metadata": {},
   "outputs": [
    {
     "name": "stdout",
     "output_type": "stream",
     "text": [
      "IndexError: list index out of range\n"
     ]
    }
   ],
   "source": [
    "try:\n",
    "    print(depth2_list[5])\n",
    "except IndexError as ie:\n",
    "    print(\"IndexError:\", ie)"
   ]
  },
  {
   "cell_type": "code",
   "execution_count": 10,
   "metadata": {},
   "outputs": [
    {
     "name": "stdout",
     "output_type": "stream",
     "text": [
      "[partially overlap] [1.234, True]\n"
     ]
    }
   ],
   "source": [
    "print(\"[partially overlap]\", basic_list[2:10])"
   ]
  },
  {
   "cell_type": "code",
   "execution_count": 11,
   "metadata": {},
   "outputs": [
    {
     "name": "stdout",
     "output_type": "stream",
     "text": [
      "[out of range] []\n"
     ]
    }
   ],
   "source": [
    "print(\"[out of range]\", basic_list[5:10])"
   ]
  },
  {
   "cell_type": "code",
   "execution_count": 12,
   "metadata": {},
   "outputs": [],
   "source": [
    "#연습문제 1) depth2_list에서 [1.234]를 출력해 보세요. (주의: 1.234가 아닌 [1.234] 입니다.)\n"
   ]
  },
  {
   "cell_type": "code",
   "execution_count": 13,
   "metadata": {},
   "outputs": [
    {
     "name": "stdout",
     "output_type": "stream",
     "text": [
      "\n",
      "list concatenation\n",
      "animal: ['dog', 'cat', 'human', 'snake', 'lizard', 'frog', 'eagle', 'sparrow', 'chicken']\n"
     ]
    }
   ],
   "source": [
    "mammal = [\"dog\", \"cat\", \"human\"]\n",
    "reptile = [\"snake\", \"lizard\", \"frog\"]\n",
    "bird = [\"eagle\", \"sparrow\", \"chicken\"]\n",
    "animal = mammal + reptile + bird\n",
    "print(\"\\nlist concatenation\")\n",
    "print(\"animal:\", animal)"
   ]
  },
  {
   "cell_type": "code",
   "execution_count": 14,
   "metadata": {},
   "outputs": [
    {
     "name": "stdout",
     "output_type": "stream",
     "text": [
      "['dog', 'cat', 'human', 'dog', 'cat', 'human', 'dog', 'cat', 'human']\n"
     ]
    }
   ],
   "source": [
    "mammals = mammal*3\n",
    "print(mammals)"
   ]
  },
  {
   "cell_type": "code",
   "execution_count": 15,
   "metadata": {},
   "outputs": [
    {
     "name": "stdout",
     "output_type": "stream",
     "text": [
      "first row ['나연', '나연', '나연', '정연', '정연', '정연', '지효', '지효', '지효']\n"
     ]
    }
   ],
   "source": [
    "members = [\"나연\", \"정연\", \"지효\"]\n",
    "tests = [\"vocl\", \"dance\", \"rap\"]\n",
    "# for문을 쓰면 더 간단하게 만들수 있다.\n",
    "first_row = members[0:1]*3 + members[1:2]*3 + members[2:3]*3\n",
    "print(\"first row\", first_row)"
   ]
  },
  {
   "cell_type": "code",
   "execution_count": 16,
   "metadata": {},
   "outputs": [
    {
     "name": "stdout",
     "output_type": "stream",
     "text": [
      "second_row ['vocl', 'dance', 'rap', 'vocl', 'dance', 'rap', 'vocl', 'dance', 'rap']\n"
     ]
    }
   ],
   "source": [
    "second_row = tests*3\n",
    "print(\"second_row\", second_row)"
   ]
  },
  {
   "cell_type": "code",
   "execution_count": 17,
   "metadata": {},
   "outputs": [
    {
     "name": "stdout",
     "output_type": "stream",
     "text": [
      "\n",
      "len of Hello: 5\n",
      "len of [1, 2, 3, 4]: 4\n"
     ]
    }
   ],
   "source": [
    "string = \"Hello\"\n",
    "print(f\"\\nlen of {string}:\", len(string))\n",
    "# => len of Hello: 5\n",
    "mylist = [1, 2, 3, 4]\n",
    "print(f\"len of {mylist}:\", len(mylist))\n",
    "# => len of [1, 2, 3, 4]: 4"
   ]
  },
  {
   "cell_type": "code",
   "execution_count": 18,
   "metadata": {},
   "outputs": [
    {
     "name": "stdout",
     "output_type": "stream",
     "text": [
      "\n",
      "after deleting [2]: [1, 2, 4, 5]\n"
     ]
    }
   ],
   "source": [
    "mylist = [1, 2, 3, 4, 5]\n",
    "del mylist[2]\n",
    "print(\"\\nafter deleting [2]:\", mylist)"
   ]
  },
  {
   "cell_type": "code",
   "execution_count": 19,
   "metadata": {},
   "outputs": [
    {
     "name": "stdout",
     "output_type": "stream",
     "text": [
      "after deleting [2:]: [1, 2]\n"
     ]
    }
   ],
   "source": [
    "del mylist[2:]\n",
    "print(\"after deleting [2:]:\", mylist)"
   ]
  },
  {
   "cell_type": "code",
   "execution_count": 20,
   "metadata": {},
   "outputs": [
    {
     "name": "stdout",
     "output_type": "stream",
     "text": [
      "\n",
      "change element by indexing: ['Life', 2, 3, 4, 5]\n"
     ]
    }
   ],
   "source": [
    "mylist = [1, 2, 3, 4, 5]\n",
    "mylist[0] = \"Life\"\n",
    "print(\"\\nchange element by indexing:\", mylist)"
   ]
  },
  {
   "cell_type": "code",
   "execution_count": 21,
   "metadata": {},
   "outputs": [
    {
     "name": "stdout",
     "output_type": "stream",
     "text": [
      "\n",
      "change elements by slicing: ['Life', 'is', 'too', 'short', 5]\n"
     ]
    }
   ],
   "source": [
    "mylist[1:4] = [\"is\", \"too\", \"short\"]\n",
    "print(\"\\nchange elements by slicing:\", mylist)"
   ]
  },
  {
   "cell_type": "code",
   "execution_count": 22,
   "metadata": {},
   "outputs": [
    {
     "name": "stdout",
     "output_type": "stream",
     "text": [
      "joined path: /home/ian/work/ian-lecture\n"
     ]
    }
   ],
   "source": [
    "path = [\"/home\", \"ian\", \"work\", \"ian-lecture\"]\n",
    "print(\"joined path:\", \"/\".join(path))"
   ]
  },
  {
   "cell_type": "code",
   "execution_count": 23,
   "metadata": {},
   "outputs": [
    {
     "name": "stdout",
     "output_type": "stream",
     "text": [
      "joined time: 13:20:30\n"
     ]
    }
   ],
   "source": [
    "time = [\"13\", \"20\", \"30\"]\n",
    "print(\"joined time:\", \":\".join(time))"
   ]
  },
  {
   "cell_type": "code",
   "execution_count": 24,
   "metadata": {},
   "outputs": [
    {
     "name": "stdout",
     "output_type": "stream",
     "text": [
      "True\n"
     ]
    }
   ],
   "source": [
    "twice = [\"나연\", \"정연\", \"모모\", \"사나\", \"지효\", \"미나\", \"다현\", \"채영\", \"쯔위\"]\n",
    "print(\"채영\" in twice)"
   ]
  },
  {
   "cell_type": "code",
   "execution_count": 25,
   "metadata": {},
   "outputs": [
    {
     "name": "stdout",
     "output_type": "stream",
     "text": [
      "채영은 트와이스 입니다.\n"
     ]
    }
   ],
   "source": [
    "if \"채영\" in twice:\n",
    "    print(\"채영은 트와이스 입니다.\")\n",
    "if \"채령\"  in twice:\n",
    "    print(\"채령은 트와이스가 아닙니다.\")"
   ]
  },
  {
   "cell_type": "code",
   "execution_count": 26,
   "metadata": {},
   "outputs": [
    {
     "name": "stdout",
     "output_type": "stream",
     "text": [
      "Tottenham vs Southampton 2019-03-10 starting line up: \n",
      " ['Kane', 'Moura', 'Lloris', 'Sissoko', 'Alli', 'Rose']\n",
      "sort() is in-place function: None\n"
     ]
    }
   ],
   "source": [
    "tottenham = ['Kane', 'Moura', 'Lloris', 'Sissoko', 'Alli', 'Rose']\n",
    "print(\"Tottenham vs Southampton 2019-03-10 starting line up: \\n\", tottenham)\n",
    "# sort(): 원소 알파벳순, 크기순 정렬, in-place 함수기 때문에 아무것도 리턴하지 않는다.\n",
    "print(\"sort() is in-place function:\", tottenham.sort())"
   ]
  },
  {
   "cell_type": "code",
   "execution_count": 27,
   "metadata": {},
   "outputs": [
    {
     "name": "stdout",
     "output_type": "stream",
     "text": [
      "sort by name: ['Alli', 'Kane', 'Lloris', 'Moura', 'Rose', 'Sissoko']\n"
     ]
    }
   ],
   "source": [
    "print(\"sort by name:\", tottenham)"
   ]
  },
  {
   "cell_type": "code",
   "execution_count": 28,
   "metadata": {},
   "outputs": [
    {
     "name": "stdout",
     "output_type": "stream",
     "text": [
      "remove ['Alli', 'Kane', 'Lloris', 'Rose', 'Sissoko']\n"
     ]
    }
   ],
   "source": [
    "tottenham.remove('Moura')\n",
    "print(\"remove\", tottenham)"
   ]
  },
  {
   "cell_type": "code",
   "execution_count": 29,
   "metadata": {},
   "outputs": [
    {
     "name": "stdout",
     "output_type": "stream",
     "text": [
      "At 72, Moura out Son in: ['Alli', 'Son', 'Kane', 'Lloris', 'Rose', 'Sissoko']\n"
     ]
    }
   ],
   "source": [
    "tottenham.insert(1, 'Son')\n",
    "print(\"At 72, Moura out Son in:\", tottenham)"
   ]
  },
  {
   "cell_type": "code",
   "execution_count": 30,
   "metadata": {},
   "outputs": [
    {
     "name": "stdout",
     "output_type": "stream",
     "text": [
      "pop 0 Alli\n"
     ]
    }
   ],
   "source": [
    "print(\"pop 0\", tottenham.pop(0))"
   ]
  },
  {
   "cell_type": "code",
   "execution_count": 31,
   "metadata": {},
   "outputs": [
    {
     "name": "stdout",
     "output_type": "stream",
     "text": [
      "alli removed ['Son', 'Kane', 'Lloris', 'Rose', 'Sissoko']\n"
     ]
    }
   ],
   "source": [
    "print(\"alli removed\", tottenham)"
   ]
  },
  {
   "cell_type": "code",
   "execution_count": 32,
   "metadata": {},
   "outputs": [
    {
     "name": "stdout",
     "output_type": "stream",
     "text": [
      "remove 2 players: ['Son', 'Kane', 'Lloris', 'Sissoko']\n"
     ]
    }
   ],
   "source": [
    "del tottenham[-2]\n",
    "print(\"remove 2 players:\", tottenham)"
   ]
  },
  {
   "cell_type": "code",
   "execution_count": 33,
   "metadata": {},
   "outputs": [
    {
     "name": "stdout",
     "output_type": "stream",
     "text": [
      "At 82, Davies and Llorente in: ['Son', 'Kane', 'Lloris', 'Sissoko', 'Davies', 'Llorente']\n"
     ]
    }
   ],
   "source": [
    "tottenham.append('Davies')\n",
    "tottenham.append('Llorente')\n",
    "print(\"At 82, Davies and Llorente in:\", tottenham)"
   ]
  },
  {
   "cell_type": "code",
   "execution_count": 34,
   "metadata": {},
   "outputs": [
    {
     "name": "stdout",
     "output_type": "stream",
     "text": [
      "reverse order ['Llorente', 'Davies', 'Sissoko', 'Lloris', 'Kane', 'Son']\n"
     ]
    }
   ],
   "source": [
    "tottenham.reverse()\n",
    "print(\"reverse order\", tottenham)"
   ]
  },
  {
   "cell_type": "code",
   "execution_count": 35,
   "metadata": {},
   "outputs": [],
   "source": [
    "#연습문제 1) wdgirls_debut에서 멤버를 삭제, 추가하여 wdgirls_final을 만들어 보세요.\n"
   ]
  },
  {
   "cell_type": "code",
   "execution_count": 36,
   "metadata": {},
   "outputs": [
    {
     "name": "stdout",
     "output_type": "stream",
     "text": [
      "선예\n",
      "예은\n",
      "소희\n",
      "현아\n",
      "선미\n"
     ]
    }
   ],
   "source": [
    "wdgirls_debut = [\"선예\", \"예은\", \"소희\", \"현아\", \"선미\"]\n",
    "for member in wdgirls_debut:\n",
    "    print(member)"
   ]
  },
  {
   "cell_type": "code",
   "execution_count": 37,
   "metadata": {},
   "outputs": [
    {
     "name": "stdout",
     "output_type": "stream",
     "text": [
      "convert to iter object\n",
      "next1: 예지\n",
      "next2: 리아\n",
      "next3: 류진\n",
      "next4: 채령\n",
      "next5: 유나\n",
      "error: iterator finished\n"
     ]
    }
   ],
   "source": [
    "itzy = [\"예지\", \"리아\", \"류진\", \"채령\", \"유나\"]\n",
    "print(\"convert to iter object\")\n",
    "itzy = iter(itzy)\n",
    "try:\n",
    "    print(\"next1:\", next(itzy))\n",
    "    print(\"next2:\", next(itzy))\n",
    "    print(\"next3:\", next(itzy))\n",
    "    print(\"next4:\", next(itzy))\n",
    "    print(\"next5:\", next(itzy))\n",
    "    print(\"next6:\", next(itzy))\n",
    "except StopIteration:\n",
    "    print(\"error: iterator finished\")"
   ]
  },
  {
   "cell_type": "code",
   "execution_count": 38,
   "metadata": {},
   "outputs": [
    {
     "name": "stdout",
     "output_type": "stream",
     "text": [
      "square numbers\n",
      "square of 1  is 1\n",
      "square of 2  is 4\n",
      "square of 3  is 9\n",
      "square of 4  is 16\n",
      "square of 5  is 25\n"
     ]
    }
   ],
   "source": [
    "print(\"square numbers\")\n",
    "numbers = [1, 2, 3, 4, 5]\n",
    "for n in numbers:\n",
    "    print(\"square of {}  is {}\".format(n, n*n))"
   ]
  },
  {
   "cell_type": "code",
   "execution_count": 39,
   "metadata": {},
   "outputs": [
    {
     "name": "stdout",
     "output_type": "stream",
     "text": [
      "square of 1 is 1\n",
      "square of 2 is 4\n",
      "square of 3 is 9\n",
      "square of 4 is 16\n",
      "square of 5 is 25\n"
     ]
    }
   ],
   "source": [
    "for n in numbers:\n",
    "    print(f\"square of {n} is {n**2}\")"
   ]
  },
  {
   "cell_type": "code",
   "execution_count": null,
   "metadata": {},
   "outputs": [],
   "source": []
  }
 ],
 "metadata": {
  "kernelspec": {
   "display_name": "Python 3",
   "language": "python",
   "name": "python3"
  },
  "language_info": {
   "codemirror_mode": {
    "name": "ipython",
    "version": 3
   },
   "file_extension": ".py",
   "mimetype": "text/x-python",
   "name": "python",
   "nbconvert_exporter": "python",
   "pygments_lexer": "ipython3",
   "version": "3.7.4"
  }
 },
 "nbformat": 4,
 "nbformat_minor": 4
}
