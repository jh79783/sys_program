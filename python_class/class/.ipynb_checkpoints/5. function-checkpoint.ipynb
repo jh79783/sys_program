{
 "cells": [
  {
   "cell_type": "code",
   "execution_count": 1,
   "metadata": {},
   "outputs": [
    {
     "name": "stdout",
     "output_type": "stream",
     "text": [
      "4\n"
     ]
    }
   ],
   "source": [
    "def add(n1, n2):\n",
    "    value = n1 + n2\n",
    "    return value\n",
    "\n",
    "print(add(1,3))"
   ]
  },
  {
   "cell_type": "code",
   "execution_count": 2,
   "metadata": {},
   "outputs": [],
   "source": [
    "def average_list(data, start, end, skip, verbose):\n",
    "    if end is None:\n",
    "        avg_data = data[start:]\n",
    "    else:\n",
    "        avg_data = data[start:end]\n",
    "\n",
    "    sum = 0\n",
    "    for ind, num in enumerate(avg_data):\n",
    "        if ind not in skip:\n",
    "            sum += num\n",
    "    dlen = len(avg_data) - len(skip)\n",
    "    average = sum / dlen\n",
    "    if verbose:\n",
    "        print(f\"average {start}~{end} with skipping {skip} = {average}\")\n",
    "    return average"
   ]
  },
  {
   "cell_type": "code",
   "execution_count": 3,
   "metadata": {},
   "outputs": [
    {
     "name": "stdout",
     "output_type": "stream",
     "text": [
      "average 1~4 with skipping [1] = 7.5\n"
     ]
    }
   ],
   "source": [
    "avgval = average_list([3, 5, 7, 10, 34, 32], 1, 4, [1], True)"
   ]
  },
  {
   "cell_type": "code",
   "execution_count": 4,
   "metadata": {},
   "outputs": [
    {
     "name": "stdout",
     "output_type": "stream",
     "text": [
      "average 2~7 with skipping [4] = 4.5\n"
     ]
    }
   ],
   "source": [
    "data = [1, 2, 3, 4, 5, 6, 7, 8, 9]\n",
    "avg = average_list(data, 2, 7, [4], True)"
   ]
  },
  {
   "cell_type": "code",
   "execution_count": 5,
   "metadata": {},
   "outputs": [
    {
     "name": "stdout",
     "output_type": "stream",
     "text": [
      "average 2~7 with skipping [4] = 4.5\n",
      "average 2~7 with skipping [4] = 4.5\n",
      "average 2~7 with skipping [4] = 4.5\n",
      "average 2~7 with skipping [4] = 4.5\n"
     ]
    }
   ],
   "source": [
    "avg = average_list(data, 2, 7, skip=[4], verbose=True)\n",
    "avg = average_list(data, 2, end=7, skip=[4], verbose=True)\n",
    "avg = average_list(data, start=2, end=7, skip=[4], verbose=True)\n",
    "avg = average_list(data=data, start=2, end=7, skip=[4], verbose=True)"
   ]
  },
  {
   "cell_type": "code",
   "execution_count": 6,
   "metadata": {},
   "outputs": [
    {
     "name": "stdout",
     "output_type": "stream",
     "text": [
      "average 2~7 with skipping [4] = 4.5\n",
      "average 2~7 with skipping [4] = 4.5\n",
      "average 2~7 with skipping [4] = 4.5\n"
     ]
    }
   ],
   "source": [
    "avg = average_list(data, start=2, end=7, skip=[4], verbose=True)\n",
    "avg = average_list(data, end=7, start=2, skip=[4], verbose=True)\n",
    "avg = average_list(data, skip=[4], start=2, end=7, verbose=True)"
   ]
  },
  {
   "cell_type": "code",
   "execution_count": 9,
   "metadata": {},
   "outputs": [
    {
     "name": "stdout",
     "output_type": "stream",
     "text": [
      "average 0~None with skipping [] = 5.0\n",
      "5.0\n"
     ]
    }
   ],
   "source": [
    "def average_list_with_default(data, start=0, end=None, skip=[], verbose=False):\n",
    "    return average_list(data, start, end, skip, verbose)\n",
    "\n",
    "print(average_list_with_default(data, verbose=True))"
   ]
  },
  {
   "cell_type": "code",
   "execution_count": 12,
   "metadata": {},
   "outputs": [
    {
     "name": "stdout",
     "output_type": "stream",
     "text": [
      "6.0\n",
      "5.0\n",
      "6.6\n"
     ]
    }
   ],
   "source": [
    "print(average_list_with_default(data, 2))\n",
    "print(average_list_with_default(data, 2, 7))\n",
    "print(average_list_with_default(data, 2, skip=[1, 2]))"
   ]
  },
  {
   "cell_type": "code",
   "execution_count": 18,
   "metadata": {},
   "outputs": [
    {
     "name": "stdout",
     "output_type": "stream",
     "text": [
      "[average_multi_subjects] args: ('cpp',)\n",
      "[average_multi_subjects] *args: cpp\n",
      "average over cpp scores: 57.7\n",
      "{'cpp': 57.666666666666664}\n",
      "[average_multi_subjects] args: ('cpp', 'java', 'ruby')\n",
      "[average_multi_subjects] *args: cpp java ruby\n",
      "average over cpp scores: 57.7\n",
      "average over java scores: 68.7\n",
      "average over ruby scores: 47.3\n",
      "{'cpp': 57.666666666666664, 'java': 68.66666666666667, 'ruby': 47.333333333333336}\n"
     ]
    }
   ],
   "source": [
    "subject_scores = {\"cpp\": [57, 36, 80],\n",
    "                  \"java\": [46, 88, 72],\n",
    "                  \"ruby\": [85, 23, 34]}\n",
    "\n",
    "def average_multi_subjects(scores, *args):\n",
    "    averages = {}\n",
    "    print(\"[average_multi_subjects] args:\", args)\n",
    "    print(\"[average_multi_subjects] *args:\", *args)\n",
    "    for subject in args:\n",
    "        avg = average_list_with_default(scores[subject], verbose=False)\n",
    "        print(f\"average over {subject} scores: {avg:.1f}\")\n",
    "        averages[subject] = avg\n",
    "    return averages\n",
    "\n",
    "result = average_multi_subjects(subject_scores, \"cpp\")\n",
    "print(result)\n",
    "result = average_multi_subjects(subject_scores, \"cpp\", \"java\", \"ruby\")\n",
    "print(result)"
   ]
  },
  {
   "cell_type": "code",
   "execution_count": 19,
   "metadata": {},
   "outputs": [],
   "source": [
    "def average_variable_arguments(data, multiple, *args):\n",
    "    # do some process ...\n",
    "    data = [d*multiple for d in data]\n",
    "    avg = average_list_with_default(data, *args)\n",
    "    return avg"
   ]
  },
  {
   "cell_type": "code",
   "execution_count": 21,
   "metadata": {},
   "outputs": [
    {
     "name": "stdout",
     "output_type": "stream",
     "text": [
      "9.333333333333334\n"
     ]
    }
   ],
   "source": [
    "result = average_variable_arguments(data, 2, 1, 8, [5])\n",
    "print(result)"
   ]
  },
  {
   "cell_type": "code",
   "execution_count": 23,
   "metadata": {},
   "outputs": [
    {
     "name": "stdout",
     "output_type": "stream",
     "text": [
      "10.0\n"
     ]
    }
   ],
   "source": [
    "result = average_variable_arguments(data, 2)\n",
    "print(result)"
   ]
  },
  {
   "cell_type": "code",
   "execution_count": 24,
   "metadata": {},
   "outputs": [],
   "source": [
    "def average_keyworded_args(data, multiple, **kwargs):\n",
    "    print(\"[average_subjects_varargs] kwargs:\", kwargs)\n",
    "    # do some process ...\n",
    "    data = [d*multiple for d in data]\n",
    "    avg = average_list_with_default(data, **kwargs)\n",
    "    return avg"
   ]
  },
  {
   "cell_type": "code",
   "execution_count": 25,
   "metadata": {},
   "outputs": [
    {
     "name": "stdout",
     "output_type": "stream",
     "text": [
      "[average_subjects_varargs] kwargs: {'start': 1, 'skip': [4, 5]}\n",
      "15.5\n"
     ]
    }
   ],
   "source": [
    "result = average_keyworded_args(data, 3, start=1, skip=[4,5])\n",
    "print(result)"
   ]
  },
  {
   "cell_type": "code",
   "execution_count": null,
   "metadata": {},
   "outputs": [],
   "source": []
  }
 ],
 "metadata": {
  "kernelspec": {
   "display_name": "Python 3",
   "language": "python",
   "name": "python3"
  },
  "language_info": {
   "codemirror_mode": {
    "name": "ipython",
    "version": 3
   },
   "file_extension": ".py",
   "mimetype": "text/x-python",
   "name": "python",
   "nbconvert_exporter": "python",
   "pygments_lexer": "ipython3",
   "version": "3.7.4"
  }
 },
 "nbformat": 4,
 "nbformat_minor": 4
}
