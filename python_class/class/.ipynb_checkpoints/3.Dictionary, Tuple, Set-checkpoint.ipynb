{
 "cells": [
  {
   "cell_type": "code",
   "execution_count": 1,
   "metadata": {},
   "outputs": [
    {
     "name": "stdout",
     "output_type": "stream",
     "text": [
      "\n",
      "dict based data management\n",
      "pooh's species is bear\n",
      "pooh's weight is 50\n",
      "tigers's age is 4\n"
     ]
    }
   ],
   "source": [
    "pooh = {\"species\": \"bear\", \"age\": 5, \"weight\": 50}\n",
    "tigger = {\"species\": \"tiger\", \"age\": 4, \"weight\": 40}\n",
    "print(\"\\ndict based data management\")\n",
    "print(\"pooh's species is\", pooh[\"species\"])\n",
    "print(\"pooh's weight is\", pooh[\"weight\"])\n",
    "print(\"tigers's age is\", tigger[\"age\"])"
   ]
  },
  {
   "cell_type": "code",
   "execution_count": 2,
   "metadata": {},
   "outputs": [
    {
     "name": "stdout",
     "output_type": "stream",
     "text": [
      "list based data management\n",
      "pooh's species is bear\n",
      "pooh's weight is 50\n",
      "tigers's age is 4\n"
     ]
    }
   ],
   "source": [
    "good_for_list = [\"pooh\", \"tigger\", \"piglet\", \"rabbit\"]\n",
    "pooh = [\"bear\", 5, 50]\n",
    "tigger = [\"tiger\", 4, 40]\n",
    "print(\"list based data management\")\n",
    "print(\"pooh's species is\", pooh[0])\n",
    "print(\"pooh's weight is\", pooh[2])\n",
    "print(\"tigers's age is\", tigger[1])"
   ]
  },
  {
   "cell_type": "code",
   "execution_count": 4,
   "metadata": {},
   "outputs": [
    {
     "name": "stdout",
     "output_type": "stream",
     "text": [
      "hash example\n",
      "hash of 1: 1\n",
      "hash of python: -6553971848985086004\n"
     ]
    }
   ],
   "source": [
    "print(\"hash example\")\n",
    "print(\"hash of 1:\", hash(1))\n",
    "print(\"hash of python:\", hash(\"species\"))"
   ]
  },
  {
   "cell_type": "code",
   "execution_count": 6,
   "metadata": {},
   "outputs": [
    {
     "name": "stdout",
     "output_type": "stream",
     "text": [
      "-6443381927368666700\n",
      "-7666396956751852262\n",
      "8576320123827202552\n"
     ]
    },
    {
     "ename": "TypeError",
     "evalue": "unhashable type: 'list'",
     "output_type": "error",
     "traceback": [
      "\u001b[1;31m---------------------------------------------------------------------------\u001b[0m",
      "\u001b[1;31mTypeError\u001b[0m                                 Traceback (most recent call last)",
      "\u001b[1;32m<ipython-input-6-615914862094>\u001b[0m in \u001b[0;36m<module>\u001b[1;34m\u001b[0m\n\u001b[0;32m      2\u001b[0m \u001b[0mprint\u001b[0m\u001b[1;33m(\u001b[0m\u001b[0mhash\u001b[0m\u001b[1;33m(\u001b[0m\u001b[1;34m\"asdfas1\"\u001b[0m\u001b[1;33m)\u001b[0m\u001b[1;33m)\u001b[0m\u001b[1;33m\u001b[0m\u001b[1;33m\u001b[0m\u001b[0m\n\u001b[0;32m      3\u001b[0m \u001b[0mprint\u001b[0m\u001b[1;33m(\u001b[0m\u001b[0mhash\u001b[0m\u001b[1;33m(\u001b[0m\u001b[1;34m\"asdfas2\"\u001b[0m\u001b[1;33m)\u001b[0m\u001b[1;33m)\u001b[0m\u001b[1;33m\u001b[0m\u001b[1;33m\u001b[0m\u001b[0m\n\u001b[1;32m----> 4\u001b[1;33m \u001b[0mprint\u001b[0m\u001b[1;33m(\u001b[0m\u001b[0mhash\u001b[0m\u001b[1;33m(\u001b[0m\u001b[1;33m[\u001b[0m\u001b[1;33m]\u001b[0m\u001b[1;33m)\u001b[0m\u001b[1;33m)\u001b[0m\u001b[1;33m\u001b[0m\u001b[1;33m\u001b[0m\u001b[0m\n\u001b[0m",
      "\u001b[1;31mTypeError\u001b[0m: unhashable type: 'list'"
     ]
    }
   ],
   "source": [
    "print(hash(\"asdfas\"))\n",
    "print(hash(\"asdfas1\"))\n",
    "print(hash(\"asdfas2\"))\n",
    "print(hash([]))"
   ]
  },
  {
   "cell_type": "code",
   "execution_count": 7,
   "metadata": {},
   "outputs": [
    {
     "name": "stdout",
     "output_type": "stream",
     "text": [
      "basic usage\n",
      "pooh's age is 5\n"
     ]
    }
   ],
   "source": [
    "print(\"basic usage\")\n",
    "pooh = {\"species\": \"bear\", \"age\": 5, \"weight\": 50}\n",
    "# 데이터 읽기: 특정 `key`에 연결된 `Value`를 읽기 위해서는 `[Key]`하면 된다.\n",
    "print(\"pooh's age is\", pooh[\"age\"])"
   ]
  },
  {
   "cell_type": "code",
   "execution_count": 8,
   "metadata": {},
   "outputs": [
    {
     "name": "stdout",
     "output_type": "stream",
     "text": [
      "pooh's age is 10\n"
     ]
    }
   ],
   "source": [
    "pooh[\"age\"] = 10\n",
    "print(\"pooh's age is\", pooh[\"age\"])"
   ]
  },
  {
   "cell_type": "code",
   "execution_count": 9,
   "metadata": {},
   "outputs": [
    {
     "name": "stdout",
     "output_type": "stream",
     "text": [
      "pooh: {'species': 'bear', 'age': 10, 'weight': 50, 'height': 1.2}\n"
     ]
    }
   ],
   "source": [
    "pooh[\"height\"] = 1.2\n",
    "print(\"pooh:\", pooh)"
   ]
  },
  {
   "cell_type": "code",
   "execution_count": 12,
   "metadata": {},
   "outputs": [
    {
     "name": "stdout",
     "output_type": "stream",
     "text": [
      "pooh: {'species': 'bear', 'age': 10, 'height': 1.2, 'none': 1.2}\n"
     ]
    }
   ],
   "source": [
    "del pooh[\"weight\"]\n",
    "print(\"pooh:\", pooh)"
   ]
  },
  {
   "cell_type": "code",
   "execution_count": 13,
   "metadata": {},
   "outputs": [
    {
     "name": "stdout",
     "output_type": "stream",
     "text": [
      "\n",
      "try non-existing key\n",
      "[KeyError] 'color'\n"
     ]
    }
   ],
   "source": [
    "pooh = {\"species\": \"bear\", \"age\": 5, \"weight\": 50}\n",
    "try:\n",
    "    print(\"\\ntry non-existing key\")\n",
    "    print(\"pooh's color?\", pooh[\"color\"])\n",
    "except KeyError as ke:\n",
    "    print(\"[KeyError]\", ke)"
   ]
  },
  {
   "cell_type": "code",
   "execution_count": 14,
   "metadata": {},
   "outputs": [
    {
     "name": "stdout",
     "output_type": "stream",
     "text": [
      "pooh's color? None\n"
     ]
    }
   ],
   "source": [
    "print(\"pooh's color?\", pooh.get(\"color\"))\n",
    "if pooh.get(\"color\"):\n",
    "    a = pooh[\"color\"]\n",
    "else:\n",
    "    pooh[\"color\"] = \"red\""
   ]
  },
  {
   "cell_type": "code",
   "execution_count": 15,
   "metadata": {},
   "outputs": [
    {
     "name": "stdout",
     "output_type": "stream",
     "text": [
      "pooh's color? None\n",
      "pooh has no color\n"
     ]
    }
   ],
   "source": [
    "print(\"pooh's color?\", pooh.get(\"color\"))\n",
    "if \"color\" in pooh:\n",
    "    print(\"pooh's color is\", pooh[\"color\"])\n",
    "else:\n",
    "    print(\"pooh has no color\")"
   ]
  },
  {
   "cell_type": "code",
   "execution_count": 16,
   "metadata": {},
   "outputs": [
    {
     "name": "stdout",
     "output_type": "stream",
     "text": [
      "\n",
      "dict functions\n",
      "names: dict_keys(['pooh', 'tigger', 'piglet', 'rabbit'])\n",
      "scores: dict_values([80, 70, 90, 85])\n",
      "items: dict_items([('pooh', 80), ('tigger', 70), ('piglet', 90), ('rabbit', 85)])\n"
     ]
    }
   ],
   "source": [
    "print(\"\\ndict functions\")\n",
    "scores = {\"pooh\": 80, \"tigger\": 70, \"piglet\": 90, \"rabbit\": 85}\n",
    "print(\"names:\", scores.keys())\n",
    "print(\"scores:\", scores.values())\n",
    "print(\"items:\", scores.items())"
   ]
  },
  {
   "cell_type": "code",
   "execution_count": 17,
   "metadata": {},
   "outputs": [
    {
     "name": "stdout",
     "output_type": "stream",
     "text": [
      "name: pooh -> 80\n",
      "name: tigger -> 70\n",
      "name: piglet -> 90\n",
      "name: rabbit -> 85\n",
      "name: pooh => 80\n",
      "name: tigger => 70\n",
      "name: piglet => 90\n",
      "name: rabbit => 85\n"
     ]
    }
   ],
   "source": [
    "for name in scores:\n",
    "    print(\"name:\", name, \"->\", scores[name])\n",
    "for name in scores.keys():\n",
    "    print(\"name:\", name, \"=>\", scores[name])"
   ]
  },
  {
   "cell_type": "code",
   "execution_count": 19,
   "metadata": {},
   "outputs": [
    {
     "name": "stdout",
     "output_type": "stream",
     "text": [
      "score: 80\n",
      "score: 70\n",
      "score: 90\n",
      "score: 85\n"
     ]
    }
   ],
   "source": [
    "for score in scores.values():\n",
    "    print(\"score:\", score)"
   ]
  },
  {
   "cell_type": "code",
   "execution_count": 20,
   "metadata": {},
   "outputs": [
    {
     "name": "stdout",
     "output_type": "stream",
     "text": [
      "\n",
      "iterate over keys and values\n",
      "name:score: pooh : 80\n",
      "name:score: tigger : 70\n",
      "name:score: piglet : 90\n",
      "name:score: rabbit : 85\n"
     ]
    }
   ],
   "source": [
    "print(\"\\niterate over keys and values\")\n",
    "for name, score in scores.items():\n",
    "    print(\"name:score:\", name, \":\", score)"
   ]
  },
  {
   "cell_type": "code",
   "execution_count": 21,
   "metadata": {},
   "outputs": [
    {
     "name": "stdout",
     "output_type": "stream",
     "text": [
      "\n",
      "How to use tuple\n",
      "read tuple Hello\n",
      "read tuple 1234\n",
      "read tuple ('Hello', 1234, (1.234, True))\n"
     ]
    }
   ],
   "source": [
    "print(\"\\nHow to use tuple\")\n",
    "empty_tuple1 = ()\n",
    "empty_tuple2 = tuple()\n",
    "basic_tuple1 = (\"Hello\", 1234, 1.234, True)\n",
    "basic_tuple2 = \"Hello\", 1234, 1.234, True\n",
    "depth2_tuple = (\"Hello\", 1234, (1.234, True))\n",
    "print(\"read tuple\", basic_tuple1[0])\n",
    "print(\"read tuple\", basic_tuple2[1])\n",
    "print(\"read tuple\", depth2_tuple[:3])"
   ]
  },
  {
   "cell_type": "code",
   "execution_count": 22,
   "metadata": {},
   "outputs": [
    {
     "name": "stdout",
     "output_type": "stream",
     "text": [
      "\n",
      "distribute values\n",
      "tupled pooh info: pooh bear 5 50\n"
     ]
    }
   ],
   "source": [
    "print(\"\\ndistribute values\")\n",
    "pooh = \"pooh\", \"bear\", 5, 50\n",
    "name, species, age, weight = pooh\n",
    "print(\"tupled pooh info:\", name, species, age, weight)"
   ]
  },
  {
   "cell_type": "code",
   "execution_count": 23,
   "metadata": {},
   "outputs": [
    {
     "name": "stdout",
     "output_type": "stream",
     "text": [
      "\n",
      "How to use set\n",
      "car set: {'k3', 'cayenne', 'a6', 'aventador'}\n"
     ]
    }
   ],
   "source": [
    "print(\"\\nHow to use set\")\n",
    "entrance_order = [\"k3\", \"aventador\", \"k3\", \"a6\", \"cayenne\", \"a6\"]\n",
    "car_set = set(entrance_order)\n",
    "print(\"car set:\", car_set)"
   ]
  },
  {
   "cell_type": "code",
   "execution_count": 26,
   "metadata": {},
   "outputs": [
    {
     "name": "stdout",
     "output_type": "stream",
     "text": [
      "{'k3', 'cayenne', 'a6', 'aventador'}\n"
     ]
    }
   ],
   "source": [
    "car_set2 = {'a6', 'aventador', 'cayenne', 'k3'} # set\n",
    "print(car_set2)"
   ]
  },
  {
   "cell_type": "code",
   "execution_count": 29,
   "metadata": {},
   "outputs": [
    {
     "name": "stdout",
     "output_type": "stream",
     "text": [
      "intersection set by &: {'hyundai'}\n"
     ]
    }
   ],
   "source": [
    "large_comps = {\"samsung\", \"hyundai\", \"lg\", \"sk\"}\n",
    "motor_comps = {\"hyundai\", \"kia\", \"gm\"}\n",
    "print(\"intersection set by &:\", large_comps.intersection(motor_comps))"
   ]
  },
  {
   "cell_type": "code",
   "execution_count": 30,
   "metadata": {},
   "outputs": [
    {
     "name": "stdout",
     "output_type": "stream",
     "text": [
      "union set by |: {'hyundai', 'sk', 'gm', 'samsung', 'kia', 'lg'}\n"
     ]
    }
   ],
   "source": [
    "print(\"union set by |:\", large_comps.union(motor_comps))"
   ]
  },
  {
   "cell_type": "code",
   "execution_count": 31,
   "metadata": {},
   "outputs": [
    {
     "name": "stdout",
     "output_type": "stream",
     "text": [
      "{'k3', 'cayenne', 'a6', 'aventador'}\n",
      "{'avante', 'sonata', 'genesis'}\n"
     ]
    }
   ],
   "source": [
    "cars1 = [\"k3\", \"aventador\", \"k3\", \"a6\", \"cayenne\", \"a6\"]\n",
    "cars2 = [\"avante\", \"avante\", \"sonata\", \"genesis\"]\n",
    "cars1 = set(cars1)\n",
    "cars2 = set(cars2)\n",
    "print(cars1)\n",
    "print(cars2)"
   ]
  },
  {
   "cell_type": "code",
   "execution_count": 32,
   "metadata": {},
   "outputs": [
    {
     "name": "stdout",
     "output_type": "stream",
     "text": [
      "['k3', 'a6', 'sonata', 'genesis', 'aventador', 'avante', 'cayenne']\n"
     ]
    }
   ],
   "source": [
    "print(list(cars1.union(cars2)))"
   ]
  },
  {
   "cell_type": "code",
   "execution_count": null,
   "metadata": {},
   "outputs": [],
   "source": []
  }
 ],
 "metadata": {
  "kernelspec": {
   "display_name": "Python 3",
   "language": "python",
   "name": "python3"
  },
  "language_info": {
   "codemirror_mode": {
    "name": "ipython",
    "version": 3
   },
   "file_extension": ".py",
   "mimetype": "text/x-python",
   "name": "python",
   "nbconvert_exporter": "python",
   "pygments_lexer": "ipython3",
   "version": "3.7.4"
  }
 },
 "nbformat": 4,
 "nbformat_minor": 4
}
