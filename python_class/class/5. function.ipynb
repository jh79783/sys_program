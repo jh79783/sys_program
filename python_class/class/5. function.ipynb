{
 "cells": [
  {
   "cell_type": "code",
   "execution_count": 1,
   "metadata": {},
   "outputs": [
    {
     "name": "stdout",
     "output_type": "stream",
     "text": [
      "4\n"
     ]
    }
   ],
   "source": [
    "def add(n1, n2):\n",
    "    value = n1 + n2\n",
    "    return value\n",
    "\n",
    "print(add(1,3))"
   ]
  },
  {
   "cell_type": "code",
   "execution_count": 2,
   "metadata": {},
   "outputs": [],
   "source": [
    "def average_list(data, start, end, skip, verbose):\n",
    "    if end is None:\n",
    "        avg_data = data[start:]\n",
    "    else:\n",
    "        avg_data = data[start:end]\n",
    "\n",
    "    sum = 0\n",
    "    for ind, num in enumerate(avg_data):\n",
    "        if ind not in skip:\n",
    "            sum += num\n",
    "    dlen = len(avg_data) - len(skip)\n",
    "    print(len(avg_data))\n",
    "    average = sum / dlen\n",
    "    if verbose:\n",
    "        print(f\"average {start}~{end} with skipping {skip} = {average}\")\n",
    "    return average"
   ]
  },
  {
   "cell_type": "code",
   "execution_count": 3,
   "metadata": {},
   "outputs": [
    {
     "name": "stdout",
     "output_type": "stream",
     "text": [
      "3\n",
      "average 1~4 with skipping [1] = 7.5\n"
     ]
    }
   ],
   "source": [
    "avgval = average_list([3, 5, 7, 10, 34, 32], 1, 4, [1], True)"
   ]
  },
  {
   "cell_type": "code",
   "execution_count": 4,
   "metadata": {},
   "outputs": [
    {
     "name": "stdout",
     "output_type": "stream",
     "text": [
      "5\n",
      "average 2~7 with skipping [4] = 4.5\n"
     ]
    }
   ],
   "source": [
    "data = [1, 2, 3, 4, 5, 6, 7, 8, 9]\n",
    "avg = average_list(data, 2, 7, [4], True)"
   ]
  },
  {
   "cell_type": "code",
   "execution_count": 5,
   "metadata": {},
   "outputs": [
    {
     "name": "stdout",
     "output_type": "stream",
     "text": [
      "5\n",
      "average 2~7 with skipping [4] = 4.5\n",
      "5\n",
      "average 2~7 with skipping [4] = 4.5\n",
      "5\n",
      "average 2~7 with skipping [4] = 4.5\n",
      "5\n",
      "average 2~7 with skipping [4] = 4.5\n"
     ]
    }
   ],
   "source": [
    "avg = average_list(data, 2, 7, skip=[4], verbose=True)\n",
    "avg = average_list(data, 2, end=7, skip=[4], verbose=True)\n",
    "avg = average_list(data, start=2, end=7, skip=[4], verbose=True)\n",
    "avg = average_list(data=data, start=2, end=7, skip=[4], verbose=True)"
   ]
  },
  {
   "cell_type": "code",
   "execution_count": 6,
   "metadata": {},
   "outputs": [
    {
     "name": "stdout",
     "output_type": "stream",
     "text": [
      "5\n",
      "average 2~7 with skipping [4] = 4.5\n",
      "5\n",
      "average 2~7 with skipping [4] = 4.5\n",
      "5\n",
      "average 2~7 with skipping [4] = 4.5\n"
     ]
    }
   ],
   "source": [
    "avg = average_list(data, start=2, end=7, skip=[4], verbose=True)\n",
    "avg = average_list(data, end=7, start=2, skip=[4], verbose=True)\n",
    "avg = average_list(data, skip=[4], start=2, end=7, verbose=True)"
   ]
  },
  {
   "cell_type": "code",
   "execution_count": 7,
   "metadata": {},
   "outputs": [
    {
     "name": "stdout",
     "output_type": "stream",
     "text": [
      "9\n",
      "average 0~None with skipping [] = 5.0\n",
      "5.0\n"
     ]
    }
   ],
   "source": [
    "def average_list_with_default(data, start=0, end=None, skip=[], verbose=False):\n",
    "    return average_list(data, start, end, skip, verbose)\n",
    "\n",
    "print(average_list_with_default(data, verbose=True))"
   ]
  },
  {
   "cell_type": "code",
   "execution_count": 8,
   "metadata": {},
   "outputs": [
    {
     "name": "stdout",
     "output_type": "stream",
     "text": [
      "7\n",
      "6.0\n",
      "5\n",
      "5.0\n",
      "7\n",
      "6.6\n"
     ]
    }
   ],
   "source": [
    "print(average_list_with_default(data, 2))\n",
    "print(average_list_with_default(data, 2, 7))\n",
    "print(average_list_with_default(data, 2, skip=[1, 2]))"
   ]
  },
  {
   "cell_type": "code",
   "execution_count": 9,
   "metadata": {},
   "outputs": [
    {
     "name": "stdout",
     "output_type": "stream",
     "text": [
      "[average_multi_subjects] args: ('cpp',)\n",
      "[average_multi_subjects] *args: cpp\n",
      "3\n",
      "average over cpp scores: 57.7\n",
      "{'cpp': 57.666666666666664}\n",
      "[average_multi_subjects] args: ('cpp', 'java', 'ruby')\n",
      "[average_multi_subjects] *args: cpp java ruby\n",
      "3\n",
      "average over cpp scores: 57.7\n",
      "3\n",
      "average over java scores: 68.7\n",
      "3\n",
      "average over ruby scores: 47.3\n",
      "{'cpp': 57.666666666666664, 'java': 68.66666666666667, 'ruby': 47.333333333333336}\n"
     ]
    }
   ],
   "source": [
    "subject_scores = {\"cpp\": [57, 36, 80],\n",
    "                  \"java\": [46, 88, 72],\n",
    "                  \"ruby\": [85, 23, 34]}\n",
    "\n",
    "def average_multi_subjects(scores, *args):\n",
    "    averages = {}\n",
    "    print(\"[average_multi_subjects] args:\", args)\n",
    "    print(\"[average_multi_subjects] *args:\", *args)\n",
    "    for subject in args:\n",
    "        avg = average_list_with_default(scores[subject], verbose=False)\n",
    "        print(f\"average over {subject} scores: {avg:.1f}\")\n",
    "        averages[subject] = avg\n",
    "    return averages\n",
    "\n",
    "result = average_multi_subjects(subject_scores, \"cpp\")\n",
    "print(result)\n",
    "result = average_multi_subjects(subject_scores, \"cpp\", \"java\", \"ruby\")\n",
    "print(result)"
   ]
  },
  {
   "cell_type": "code",
   "execution_count": 10,
   "metadata": {},
   "outputs": [],
   "source": [
    "def average_variable_arguments(data, multiple, *args):\n",
    "    # do some process ...\n",
    "    data = [d*multiple for d in data]\n",
    "    avg = average_list_with_default(data, *args)\n",
    "    return avg"
   ]
  },
  {
   "cell_type": "code",
   "execution_count": 11,
   "metadata": {},
   "outputs": [
    {
     "name": "stdout",
     "output_type": "stream",
     "text": [
      "7\n",
      "9.333333333333334\n"
     ]
    }
   ],
   "source": [
    "result = average_variable_arguments(data, 2, 1, 8, [5])\n",
    "print(result)"
   ]
  },
  {
   "cell_type": "code",
   "execution_count": 12,
   "metadata": {},
   "outputs": [
    {
     "name": "stdout",
     "output_type": "stream",
     "text": [
      "9\n",
      "10.0\n"
     ]
    }
   ],
   "source": [
    "result = average_variable_arguments(data, 2)\n",
    "print(result)"
   ]
  },
  {
   "cell_type": "code",
   "execution_count": 13,
   "metadata": {},
   "outputs": [],
   "source": [
    "def average_keyworded_args(data, multiple, **kwargs):\n",
    "    print(\"[average_subjects_varargs] kwargs:\", kwargs)\n",
    "    # do some process ...\n",
    "    data = [d*multiple for d in data]\n",
    "    avg = average_list_with_default(data, **kwargs)\n",
    "    return avg"
   ]
  },
  {
   "cell_type": "code",
   "execution_count": 14,
   "metadata": {},
   "outputs": [
    {
     "name": "stdout",
     "output_type": "stream",
     "text": [
      "[average_subjects_varargs] kwargs: {'start': 1, 'skip': [4, 5]}\n",
      "8\n",
      "15.5\n"
     ]
    }
   ],
   "source": [
    "result = average_keyworded_args(data, 3, start=1, skip=[4,5])\n",
    "print(result)"
   ]
  },
  {
   "cell_type": "code",
   "execution_count": 24,
   "metadata": {},
   "outputs": [
    {
     "name": "stdout",
     "output_type": "stream",
     "text": [
      "3\n",
      "3\n",
      "{'cpp': 580.0, 'java': 800.0}\n"
     ]
    }
   ],
   "source": [
    "subject_scores = {\"cpp\": [57, 36, 80, 53, 23],\n",
    "                  \"java\": [46, 88, 72, 15, 54],\n",
    "                  \"ruby\": [85, 23, 34, 91, 42]}\n",
    "def average_subjects_kwargs(scores, multiple, *args, **kwargs):\n",
    "    result = {}\n",
    "    for sub in args:\n",
    "        subj_scores = [scr * multiple for scr in scores[sub]]\n",
    "        avg = average_list_with_default(subj_scores, **kwargs)\n",
    "        result[sub] = avg\n",
    "    return result\n",
    "\n",
    "result = average_subjects_kwargs(subject_scores, 10, \"cpp\", \"java\", start=1, end=4, skip=[2])\n",
    "print(result)"
   ]
  },
  {
   "cell_type": "code",
   "execution_count": 21,
   "metadata": {},
   "outputs": [
    {
     "name": "stdout",
     "output_type": "stream",
     "text": [
      "\n",
      "variable scope\n",
      "variable created inside block: created\n",
      "name 'var_not_created' is not defined\n"
     ]
    }
   ],
   "source": [
    "print(\"\\nvariable scope\")\n",
    "if True:\n",
    "    var_created = \"created\"\n",
    "print(\"variable created inside block:\", var_created)\n",
    "if False:\n",
    "    var_not_created = \"not created\"\n",
    "try:\n",
    "    print(\"variable NOT created inside block:\", var_not_created)\n",
    "except NameError as ne:\n",
    "    print(ne)"
   ]
  },
  {
   "cell_type": "code",
   "execution_count": 23,
   "metadata": {},
   "outputs": [
    {
     "name": "stdout",
     "output_type": "stream",
     "text": [
      "add_ten_local: 20\n"
     ]
    },
    {
     "ename": "NameError",
     "evalue": "name 'local_var' is not defined",
     "output_type": "error",
     "traceback": [
      "\u001b[1;31m---------------------------------------------------------------------------\u001b[0m",
      "\u001b[1;31mNameError\u001b[0m                                 Traceback (most recent call last)",
      "\u001b[1;32m<ipython-input-23-7fe1d6d3bc63>\u001b[0m in \u001b[0;36m<module>\u001b[1;34m\u001b[0m\n\u001b[0;32m      4\u001b[0m     \u001b[0mprint\u001b[0m\u001b[1;33m(\u001b[0m\u001b[1;34m\"add_ten_local:\"\u001b[0m\u001b[1;33m,\u001b[0m \u001b[0mlocal_var\u001b[0m\u001b[1;33m)\u001b[0m\u001b[1;33m\u001b[0m\u001b[1;33m\u001b[0m\u001b[0m\n\u001b[0;32m      5\u001b[0m \u001b[0madd_ten_local\u001b[0m\u001b[1;33m(\u001b[0m\u001b[1;33m)\u001b[0m\u001b[1;33m\u001b[0m\u001b[1;33m\u001b[0m\u001b[0m\n\u001b[1;32m----> 6\u001b[1;33m \u001b[0mprint\u001b[0m\u001b[1;33m(\u001b[0m\u001b[0mlocal_var\u001b[0m\u001b[1;33m)\u001b[0m\u001b[1;33m\u001b[0m\u001b[1;33m\u001b[0m\u001b[0m\n\u001b[0m",
      "\u001b[1;31mNameError\u001b[0m: name 'local_var' is not defined"
     ]
    }
   ],
   "source": [
    "global_var = 10\n",
    "def add_ten_local():\n",
    "    local_var = global_var + 10\n",
    "    print(\"add_ten_local:\", local_var)\n",
    "add_ten_local()\n",
    "print(local_var)"
   ]
  },
  {
   "cell_type": "code",
   "execution_count": 28,
   "metadata": {},
   "outputs": [
    {
     "name": "stdout",
     "output_type": "stream",
     "text": [
      "local variable 'global_var' referenced before assignment\n"
     ]
    }
   ],
   "source": [
    "def add_ten_global():\n",
    "    try:\n",
    "        global_var = global_var + 10\n",
    "        print(\"add_ten_global:\", global_var)\n",
    "    except NameError as ne:\n",
    "        print(ne)\n",
    "add_ten_global()"
   ]
  },
  {
   "cell_type": "code",
   "execution_count": 30,
   "metadata": {},
   "outputs": [
    {
     "name": "stdout",
     "output_type": "stream",
     "text": [
      "local variable 'global_var' referenced before assignment\n"
     ]
    }
   ],
   "source": [
    "def add_ten_global_two_steps():\n",
    "    try:\n",
    "        local_var = global_var + 10\n",
    "        global_var = local_var\n",
    "        print(\"add_ten_global_two_steps:\", global_var)\n",
    "    except NameError as ne:\n",
    "        print(ne)\n",
    "        \n",
    "add_ten_global_two_steps()"
   ]
  },
  {
   "cell_type": "code",
   "execution_count": 34,
   "metadata": {},
   "outputs": [
    {
     "name": "stdout",
     "output_type": "stream",
     "text": [
      "add_ten_global_use_global: 40\n",
      "40\n"
     ]
    }
   ],
   "source": [
    "def add_ten_global_use_global():\n",
    "    global global_var\n",
    "    global_var = global_var + 10\n",
    "    print(\"add_ten_global_use_global:\", global_var)\n",
    "add_ten_global_use_global()\n",
    "print(global_var)"
   ]
  },
  {
   "cell_type": "code",
   "execution_count": null,
   "metadata": {},
   "outputs": [],
   "source": []
  },
  {
   "cell_type": "code",
   "execution_count": null,
   "metadata": {},
   "outputs": [],
   "source": []
  }
 ],
 "metadata": {
  "kernelspec": {
   "display_name": "Python 3",
   "language": "python",
   "name": "python3"
  },
  "language_info": {
   "codemirror_mode": {
    "name": "ipython",
    "version": 3
   },
   "file_extension": ".py",
   "mimetype": "text/x-python",
   "name": "python",
   "nbconvert_exporter": "python",
   "pygments_lexer": "ipython3",
   "version": "3.7.4"
  }
 },
 "nbformat": 4,
 "nbformat_minor": 4
}
