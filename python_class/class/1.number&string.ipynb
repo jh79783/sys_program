{
 "cells": [
  {
   "cell_type": "code",
   "execution_count": 1,
   "metadata": {},
   "outputs": [
    {
     "name": "stdout",
     "output_type": "stream",
     "text": [
      "abc is in mylist\n",
      "abc\n"
     ]
    }
   ],
   "source": [
    "mylist = ['abc', 'bc', 'cde']\n",
    "if 'abc' in mylist:\n",
    "    print(\"abc is in mylist\")\n",
    "for v in mylist:\n",
    "    if v.startswith('a') and len(v) > 1:\n",
    "        print(v)"
   ]
  },
  {
   "cell_type": "code",
   "execution_count": 2,
   "metadata": {},
   "outputs": [
    {
     "name": "stdout",
     "output_type": "stream",
     "text": [
      "Hello python\n"
     ]
    }
   ],
   "source": [
    "print(\"Hello python\")"
   ]
  },
  {
   "cell_type": "code",
   "execution_count": 3,
   "metadata": {},
   "outputs": [
    {
     "name": "stdout",
     "output_type": "stream",
     "text": [
      "type: <class 'str'> value: hello\n"
     ]
    }
   ],
   "source": [
    "a = \"hello\"\n",
    "print(\"type:\", type(a), \"value:\", a)"
   ]
  },
  {
   "cell_type": "code",
   "execution_count": 4,
   "metadata": {},
   "outputs": [
    {
     "name": "stdout",
     "output_type": "stream",
     "text": [
      "type: <class 'int'> value: 1234\n"
     ]
    }
   ],
   "source": [
    "a = 1234\n",
    "print(\"type:\", type(a), \"value:\", a)"
   ]
  },
  {
   "cell_type": "code",
   "execution_count": 5,
   "metadata": {},
   "outputs": [
    {
     "name": "stdout",
     "output_type": "stream",
     "text": [
      "type: <class 'float'> value: 1.234\n"
     ]
    }
   ],
   "source": [
    "a = 1.234\n",
    "print(\"type:\", type(a), \"value:\", a)"
   ]
  },
  {
   "cell_type": "code",
   "execution_count": 6,
   "metadata": {},
   "outputs": [
    {
     "name": "stdout",
     "output_type": "stream",
     "text": [
      "type: <class 'bool'> value: True\n"
     ]
    }
   ],
   "source": [
    "a = True\n",
    "print(\"type:\", type(a), \"value:\", a)"
   ]
  },
  {
   "cell_type": "code",
   "execution_count": 7,
   "metadata": {},
   "outputs": [
    {
     "name": "stdout",
     "output_type": "stream",
     "text": [
      "float <class 'float'> 24\n",
      "integer <class 'int'> 28\n"
     ]
    }
   ],
   "source": [
    "import sys\n",
    "a = 135.68\n",
    "b = 15\n",
    "print(\"float\", type(a), sys.getsizeof(a))\n",
    "print(\"integer\", type(b), sys.getsizeof(b))"
   ]
  },
  {
   "cell_type": "code",
   "execution_count": 8,
   "metadata": {},
   "outputs": [
    {
     "name": "stdout",
     "output_type": "stream",
     "text": [
      "150.68\n",
      "120.68\n",
      "2035.2\n",
      "9.045333333333334\n"
     ]
    }
   ],
   "source": [
    "print(a + b)\n",
    "print(a - b)\n",
    "print(a * b)\n",
    "print(a / b)"
   ]
  },
  {
   "cell_type": "code",
   "execution_count": 9,
   "metadata": {},
   "outputs": [
    {
     "name": "stdout",
     "output_type": "stream",
     "text": [
      "3375\n",
      "0.6800000000000068\n",
      "9.0\n"
     ]
    }
   ],
   "source": [
    "print(b ** 3)\n",
    "print(a % b)\n",
    "print(a // b)"
   ]
  },
  {
   "cell_type": "code",
   "execution_count": 10,
   "metadata": {},
   "outputs": [
    {
     "name": "stdout",
     "output_type": "stream",
     "text": [
      "2197\n",
      "5\n",
      "137\n",
      "9\n",
      "8\n",
      "16진수: 8 9 5\n"
     ]
    }
   ],
   "source": [
    "#연습문제: 1) 위 연산을 이용해서 13의 3승을 16진수로 표현하시오.\n",
    "a = 13 ** 3\n",
    "print(a)\n",
    "b = a % 16\n",
    "print(b)\n",
    "c = a // 16\n",
    "print(c)\n",
    "d = c % 16\n",
    "print(d)\n",
    "e = c // 16\n",
    "print(e)\n",
    "print(\"16진수:\", e, d, b)"
   ]
  },
  {
   "cell_type": "code",
   "execution_count": 11,
   "metadata": {},
   "outputs": [
    {
     "name": "stdout",
     "output_type": "stream",
     "text": [
      "if statements\n",
      "13**3 >= 30**2\n"
     ]
    }
   ],
   "source": [
    "print(\"if statements\")\n",
    "if 13 ** 3 > 50 **2:\n",
    "    print(\"13**2 > 50**2\")\n",
    "elif 13 ** 3 != 2197:\n",
    "    print(\"13**3 != 2197\")\n",
    "elif 13 ** 3 >= 30 **2:\n",
    "    print(\"13**3 >= 30**2\")\n",
    "else:\n",
    "    print(\"13**3 < 30**2\")"
   ]
  },
  {
   "cell_type": "code",
   "execution_count": 12,
   "metadata": {},
   "outputs": [
    {
     "name": "stdout",
     "output_type": "stream",
     "text": [
      "\n",
      "What is difference between `is` and `==`?\n",
      "little difference for built-in types(int, float, str)\n",
      "intvar == 12: True\n",
      "intvar is 12: True\n",
      "boolvar == True: True\n",
      "boolvar is True: True\n"
     ]
    }
   ],
   "source": [
    "print(\"\\nWhat is difference between `is` and `==`?\")\n",
    "print(\"little difference for built-in types(int, float, str)\")\n",
    "intvar = 12\n",
    "print(\"intvar == 12:\", intvar == 12)\n",
    "print(\"intvar is 12:\", intvar is 12)\n",
    "boolvar = True\n",
    "print(\"boolvar == True:\", boolvar == True)\n",
    "print(\"boolvar is True:\", boolvar is True)"
   ]
  },
  {
   "cell_type": "code",
   "execution_count": 13,
   "metadata": {},
   "outputs": [
    {
     "name": "stdout",
     "output_type": "stream",
     "text": [
      "big difference for object types\n",
      "foo == bar: True\n",
      "foo is bar: False\n",
      "bar, goo: [0, 2] [0, 2]\n",
      "foo == goo False\n",
      "bar is goo True\n"
     ]
    }
   ],
   "source": [
    "print(\"big difference for object types\")\n",
    "foo = [1, 2]\n",
    "bar = [1, 2]\n",
    "print(\"foo == bar:\", foo == bar)\n",
    "print(\"foo is bar:\", foo is bar)\n",
    "goo = bar\n",
    "goo[0] = 0\n",
    "print(\"bar, goo:\", bar, goo)\n",
    "print(\"foo == goo\", foo == goo)\n",
    "print(\"bar is goo\", bar is goo)"
   ]
  },
  {
   "cell_type": "code",
   "execution_count": 14,
   "metadata": {},
   "outputs": [
    {
     "name": "stdout",
     "output_type": "stream",
     "text": [
      "value is even and less than 12\n"
     ]
    }
   ],
   "source": [
    "value = 10\n",
    "if value % 2 == 0 and value < 12:\n",
    "    print(\"value is even and less than 12\")\n",
    "if value % 2 != 0 or value < 0:\n",
    "    print(\"value is odd or negative\")"
   ]
  },
  {
   "cell_type": "code",
   "execution_count": 15,
   "metadata": {},
   "outputs": [
    {
     "name": "stdout",
     "output_type": "stream",
     "text": [
      "type(string1): <class 'str'>\n",
      "Life 'is' too short\n",
      "You \"need\" python\n"
     ]
    }
   ],
   "source": [
    "string1 = \"Life is too short\"\n",
    "string2 = 'You need python'\n",
    "print(\"type(string1):\", type(string1))\n",
    "print(\"Life 'is' too short\")\n",
    "print('You \"need\" python')"
   ]
  },
  {
   "cell_type": "code",
   "execution_count": 16,
   "metadata": {},
   "outputs": [
    {
     "name": "stdout",
     "output_type": "stream",
     "text": [
      "Life \"is\" too short,\n",
      "You 'need' python\n",
      "안녕? 파이썬\n"
     ]
    }
   ],
   "source": [
    "print(\"Life \\\"is\\\" too short,\\nYou \\'need\\' python\")\n",
    "print(\"안녕? 파이썬\")"
   ]
  },
  {
   "cell_type": "code",
   "execution_count": 17,
   "metadata": {},
   "outputs": [
    {
     "name": "stdout",
     "output_type": "stream",
     "text": [
      "날 너무너무너무 너무너무너무 너무너무너무 너무너무너무 너무너무너무 좋아하면 그때 말해줘\n"
     ]
    }
   ],
   "source": [
    "print(\"날 \" + (\"너무\" * 3 + \" \")*5  + \"좋아하면 그때 말해줘\")"
   ]
  },
  {
   "cell_type": "code",
   "execution_count": 18,
   "metadata": {},
   "outputs": [
    {
     "name": "stdout",
     "output_type": "stream",
     "text": [
      "내가 자꾸자꾸자꾸 자꾸자꾸자꾸 자꾸자꾸자꾸 자꾸자꾸자꾸 자꾸자꾸자꾸 떠오르면 그때 불러줘\n"
     ]
    }
   ],
   "source": [
    "print(\"내가 \" + (\"자꾸\" * 3 + \" \")*5 + \"떠오르면 그때 불러줘\")"
   ]
  },
  {
   "cell_type": "code",
   "execution_count": 19,
   "metadata": {},
   "outputs": [],
   "source": [
    "#string = \"hello python\"\n",
    "#string[시작인덱스:끝인덱스]\n",
    "#string[0:5] = \"hello\"\n",
    "#0 <= index < 5"
   ]
  },
  {
   "cell_type": "code",
   "execution_count": 20,
   "metadata": {},
   "outputs": [
    {
     "name": "stdout",
     "output_type": "stream",
     "text": [
      "index t: t t t t\n"
     ]
    }
   ],
   "source": [
    "text = \"Life is too short, You need Python\"\n",
    "print(\"index t:\", text[8], text[16], text[30], text[-4])"
   ]
  },
  {
   "cell_type": "code",
   "execution_count": 21,
   "metadata": {},
   "outputs": [
    {
     "name": "stdout",
     "output_type": "stream",
     "text": [
      "slice 'Life': Life\n",
      "slice 'Life': Life\n",
      "slice 'short': short\n"
     ]
    }
   ],
   "source": [
    "print(\"slice 'Life':\", text[0:4])\n",
    "print(\"slice 'Life':\", text[:4])\n",
    "print(\"slice 'short':\", text[12:17])"
   ]
  },
  {
   "cell_type": "code",
   "execution_count": 22,
   "metadata": {},
   "outputs": [
    {
     "name": "stdout",
     "output_type": "stream",
     "text": [
      "slice 'Python': Python\n",
      "slice 'need' need\n",
      "slice 'need' need\n"
     ]
    }
   ],
   "source": [
    "print(\"slice 'Python':\", text[28:])\n",
    "print(\"slice 'need'\", text[23:27])\n",
    "print(\"slice 'need'\", text[23:-7])"
   ]
  },
  {
   "cell_type": "code",
   "execution_count": 23,
   "metadata": {},
   "outputs": [
    {
     "name": "stdout",
     "output_type": "stream",
     "text": [
      "\n",
      "==============================\n",
      "String formatting 1: %\n",
      "class: warrior\n",
      "HP: 100\n",
      "DPS: 1456.230000\n"
     ]
    }
   ],
   "source": [
    "print(\"\\n\" + \"=\"*30)\n",
    "print(\"String formatting 1: %\")\n",
    "print(\"class: %s\" % \"warrior\")\n",
    "print(\"HP: %d\" % 100)\n",
    "print(\"DPS: %f\" % 1456.23)"
   ]
  },
  {
   "cell_type": "code",
   "execution_count": 24,
   "metadata": {},
   "outputs": [
    {
     "name": "stdout",
     "output_type": "stream",
     "text": [
      "class:    warrior, HP:   100, DPS:   1456.230\n",
      "class:     healer, HP:     1, DPS:     10.100\n"
     ]
    }
   ],
   "source": [
    "_class = \"warrior\"\n",
    "HP = 100\n",
    "DPS = 1456.23\n",
    "pattern = \"class: %10s, HP: %5d, DPS: %10.3f\"\n",
    "#char_intro1 = \"class: %10s, HP: %5d, DPS: %10.3f\" % (_class, HP, DPS)\n",
    "#char_intro2 = \"class: %10s, HP: %5d, DPS: %10.3f\" % (\"healer\", 1, 10.1)\n",
    "char_intro1 = pattern % (_class, HP, DPS)\n",
    "char_intro2 = pattern % (\"healer\", 1, 10.1)\n",
    "\n",
    "print(char_intro1)\n",
    "print(char_intro2)"
   ]
  },
  {
   "cell_type": "code",
   "execution_count": 25,
   "metadata": {},
   "outputs": [
    {
     "name": "stdout",
     "output_type": "stream",
     "text": [
      "\n",
      "==============================\n",
      "String formatting 2: {}.format()\n",
      "class: warrior\n",
      "HP: 100\n",
      "DPS: 1456.23\n"
     ]
    }
   ],
   "source": [
    "print(\"\\n\" + \"=\"*30)\n",
    "print(\"String formatting 2: {}.format()\")\n",
    "print(\"class: {}\".format(\"warrior\"))\n",
    "print(\"HP: {}\".format(100))\n",
    "print(\"DPS: {}\".format(1456.23))"
   ]
  },
  {
   "cell_type": "code",
   "execution_count": 26,
   "metadata": {},
   "outputs": [
    {
     "name": "stdout",
     "output_type": "stream",
     "text": [
      "class: warrior   , HP:   100, DPS:   1456.230\n",
      "class: healer    , HP:   200, DPS:    834.790\n"
     ]
    }
   ],
   "source": [
    "_class = \"warrior\"\n",
    "HP = 100\n",
    "DPS = 1456.23\n",
    "pattern = \"class: {:<10}, HP: {:>5}, DPS: {:>10.3f}\"\n",
    "char_intro = pattern.format(_class, HP, DPS)\n",
    "print(char_intro)\n",
    "print(pattern.format(\"healer\", 200, 834.79))"
   ]
  },
  {
   "cell_type": "code",
   "execution_count": 27,
   "metadata": {},
   "outputs": [
    {
     "name": "stdout",
     "output_type": "stream",
     "text": [
      "\n",
      "==============================\n",
      "class: warrior, HP: 100, DPS: 1456.23\n",
      "class: healer    , HP: 200  , DPS: 834.790   \n"
     ]
    }
   ],
   "source": [
    "print(\"\\n\" + \"=\"*30)\n",
    "_class = \"warrior\"\n",
    "HP = 100\n",
    "DPS = 1456.23\n",
    "char_intro = f\"class: {_class}, HP: {HP}, DPS: {DPS}\"\n",
    "print(char_intro)\n",
    "char_intro = f\"class: {'healer':<10}, HP: {200:<5}, DPS: {834.79:<10.3f}\"\n",
    "print(char_intro)"
   ]
  },
  {
   "cell_type": "code",
   "execution_count": 28,
   "metadata": {},
   "outputs": [
    {
     "name": "stdout",
     "output_type": "stream",
     "text": [
      "\n",
      "==============================\n",
      "str class functions\n",
      "count substring\n",
      "count '너무': 3\n",
      "count '너무': 15\n"
     ]
    }
   ],
   "source": [
    "print(\"\\n\" + \"=\"*30)\n",
    "print(\"str class functions\")\n",
    "print(\"count substring\")\n",
    "print(\"count '너무':\", \"날 너무너무너무\".count('너무'))\n",
    "text = \"날 \" + (\"너무\" * 3 + \" \")*5 + \"좋아하면 그때 말해줘\"\n",
    "print(\"count '너무':\", text.count('너무'))"
   ]
  },
  {
   "cell_type": "code",
   "execution_count": 29,
   "metadata": {},
   "outputs": [
    {
     "name": "stdout",
     "output_type": "stream",
     "text": [
      "\n",
      "find substring\n",
      "'py' found at 8 in `For the python, of the python, by the python`\n",
      "'py' found at 23 in `For the python, of the python, by the python`\n",
      "'py' found at 38 in `For the python, of the python, by the python`\n",
      "'ruby' found at -1 in `For the python, of the python, by the python`\n"
     ]
    }
   ],
   "source": [
    "print(\"\\nfind substring\")\n",
    "text = \"For the python, of the python, by the python\"\n",
    "pyind = text.find(\"py\", 0)\n",
    "print(f\"'py' found at {pyind} in `{text}`\")\n",
    "pyind = text.find(\"py\", pyind + 1)\n",
    "print(f\"'py' found at {pyind} in `{text}`\")\n",
    "pyind = text.find(\"py\", pyind + 1)\n",
    "print(f\"'py' found at {pyind} in `{text}`\")\n",
    "pyind = text.find(\"ruby\")\n",
    "print(f\"'ruby' found at {pyind} in `{text}`\")"
   ]
  },
  {
   "cell_type": "code",
   "execution_count": 30,
   "metadata": {},
   "outputs": [
    {
     "name": "stdout",
     "output_type": "stream",
     "text": [
      "'py' indexed at 8 in `For the python, of the python, by the python`\n",
      "'py' indexed at 23 in `For the python, of the python, by the python`\n",
      "'py' indexed at 38 in `For the python, of the python, by the python`\n"
     ]
    }
   ],
   "source": [
    "pyind = text.index(\"py\")\n",
    "print(f\"'py' indexed at {pyind} in `{text}`\")\n",
    "pyind = text.index(\"py\", pyind+1)\n",
    "print(f\"'py' indexed at {pyind} in `{text}`\")\n",
    "pyind = text.index(\"py\", pyind+1)\n",
    "print(f\"'py' indexed at {pyind} in `{text}`\")"
   ]
  },
  {
   "cell_type": "code",
   "execution_count": 31,
   "metadata": {},
   "outputs": [
    {
     "name": "stdout",
     "output_type": "stream",
     "text": [
      "'ruby' not indexed, value error: substring not found\n"
     ]
    }
   ],
   "source": [
    "try:\n",
    "    pyind = text.index(\"ruby\")\n",
    "    print(f\"'ruby' found at {pyind} in `{text}`\")\n",
    "except ValueError as ve:\n",
    "    print(\"'ruby' not indexed, value error:\", ve)"
   ]
  },
  {
   "cell_type": "code",
   "execution_count": 32,
   "metadata": {},
   "outputs": [
    {
     "name": "stdout",
     "output_type": "stream",
     "text": [
      "\n",
      "uppper and lower case\n",
      "python PYTHON\n",
      "compare PYthon and python\n",
      "PYthon == python: False\n",
      "PYthon.lower() == python: True\n",
      "PYthon.upper() == python.upper(): True\n",
      "PYthon.lower() is python.lower(): False\n"
     ]
    }
   ],
   "source": [
    "print(\"\\nuppper and lower case\")\n",
    "mixed = \"PYthon\"\n",
    "small = \"python\"\n",
    "print(mixed.lower(), mixed.upper())\n",
    "print(f\"compare {mixed} and {small}\")\n",
    "print(f\"{mixed} == {small}:\", mixed == small)\n",
    "print(f\"{mixed}.lower() == {small}:\", mixed.lower() == small)\n",
    "print(f\"{mixed}.upper() == {small}.upper():\", mixed.upper() == small.upper())\n",
    "print(f\"{mixed}.lower() is {small}.lower():\", mixed.lower() is small.lower())"
   ]
  },
  {
   "cell_type": "code",
   "execution_count": 33,
   "metadata": {},
   "outputs": [
    {
     "name": "stdout",
     "output_type": "stream",
     "text": [
      "\n",
      "strip string\n",
      " \"Walking on water and developing software from a specification are easy if both are frozen...\" \n",
      "\"Walking on water and developing software from a specification are easy if both are frozen...\"\n",
      "Walking on water and developing software from a specification are easy if both are frozen...\n",
      "Walking on water and developing software from a specification are easy if both are frozen\n"
     ]
    }
   ],
   "source": [
    "print(\"\\nstrip string\")\n",
    "wise_saying = ' \"Walking on water and developing software ' \\\n",
    "            'from a specification are easy if both are frozen...\" '\n",
    "print(wise_saying)\n",
    "wise_saying = wise_saying.strip()\n",
    "print(wise_saying)\n",
    "wise_saying = wise_saying.strip('\\\"')\n",
    "print(wise_saying)\n",
    "wise_saying = wise_saying.rstrip('.')\n",
    "print(wise_saying)"
   ]
  },
  {
   "cell_type": "code",
   "execution_count": 34,
   "metadata": {},
   "outputs": [
    {
     "name": "stdout",
     "output_type": "stream",
     "text": [
      "\n",
      "replace string\n",
      "Lincoln said: for the people, by the people, of the people\n",
      "We say: for the python, by the python, of the python\n",
      "Simply say: for  python, by  python, of  python\n"
     ]
    }
   ],
   "source": [
    "print(\"\\nreplace string\")\n",
    "Lincoln_said = \"for the people, by the people, of the people\"\n",
    "We_say = Lincoln_said.replace(\"people\", \"python\")\n",
    "Simply_say = We_say.replace(\"the \", \"\")\n",
    "print(\"Lincoln said:\", Lincoln_said)\n",
    "print(\"We say:\", We_say)\n",
    "Simply_say = We_say.replace(\"the\", \"\")\n",
    "print(\"Simply say:\", Simply_say)"
   ]
  },
  {
   "cell_type": "code",
   "execution_count": 35,
   "metadata": {},
   "outputs": [
    {
     "name": "stdout",
     "output_type": "stream",
     "text": [
      "\n",
      "split string into list of substrings\n",
      "split by words: ['for', 'the', 'python,', 'by', 'the', 'python,', 'of', 'the', 'python']\n",
      "split by phrase: ['for the python', ' by the python', ' of the python']\n"
     ]
    }
   ],
   "source": [
    "print(\"\\nsplit string into list of substrings\")\n",
    "print(\"split by words:\", We_say.split(\" \"))\n",
    "print(\"split by phrase:\", We_say.split(\",\"))"
   ]
  },
  {
   "cell_type": "code",
   "execution_count": 36,
   "metadata": {
    "scrolled": true
   },
   "outputs": [
    {
     "name": "stdout",
     "output_type": "stream",
     "text": [
      "나는 대리암 염산과 반응하면 이산화탄소를 내며 녹는 대리암\n",
      "나는 대리암 염산과 반응하면 이산화탄소를 내며 녹는 대리암\n",
      "그간 많은 stress 견뎌내며 비로소 대리암이 되었다네\n",
      "모든 게 완벽했던 그 어느 날 난 너를 만나게 된 거야\n",
      "모든 게 완벽했던 그 어느 날 난 너를 만나게 된 거야\n",
      "나는 대리암 염산과 반응하면 이산화탄소를 내며 녹는 대리암\n",
      "나는 대리암 염산과 반응하면 이산화탄소를 내며 녹는 대리암\n",
      "나를 보고 웃기라도 하는 날엔 하루 종일 아무것도 할 수 없네\n",
      "그 눈으로 날 똑바로 바라보면 나는 녹아버릴 거야\n",
      "나는 대리암 염산과 반응하면 이산화탄소를 내며 녹는 대리암\n",
      "나는 대리암 염산과 반응하면 이산화탄소를 내며 녹는 대리암\n",
      "나는 대리암 염산과 반응하면 이산화탄소를 내며 녹는 대리암\n",
      "나는 대리암 염산과 반응하면 이산화탄소를 내며 녹는 대리암\n",
      "이것이 염산반응이다\n",
      "이것이 염산반응이다\n",
      "Hcl이다 CaCO3다\n",
      "2Hcl + CaCO3 -> CaCl2 +CO2 + H2O다.\n",
      "나는 대리암 염산과 반응하면 이산화탄소를 내며 녹는 대리암\n",
      "나는 대리암 염산과 반응하면 이산화탄소를 내며 녹는 대리암\n",
      "나는 대리암 나는 대리암 \n"
     ]
    }
   ],
   "source": [
    "#연습문제 : 1) “대리암”의 가사를 문자열 연산을 통해 만들어 보세오.\n",
    "marble = \\\n",
    "    \"나는 대리암 염산과 반응하면 이산화탄소를 내며 녹는 대리암\\n\" \\\n",
    "    \"나는 대리암 염산과 반응하면 이산화탄소를 내며 녹는 대리암\\n\" \\\n",
    "    \"그간 많은 stress 견뎌내며 비로소 대리암이 되었다네\\n\" \\\n",
    "    \"모든 게 완벽했던 그 어느 날 난 너를 만나게 된 거야\\n\" \\\n",
    "    \"모든 게 완벽했던 그 어느 날 난 너를 만나게 된 거야\\n\" \\\n",
    "    \"나는 대리암 염산과 반응하면 이산화탄소를 내며 녹는 대리암\\n\" \\\n",
    "    \"나는 대리암 염산과 반응하면 이산화탄소를 내며 녹는 대리암\\n\" \\\n",
    "    \"나를 보고 웃기라도 하는 날엔 하루 종일 아무것도 할 수 없네\\n\" \\\n",
    "    \"그 눈으로 날 똑바로 바라보면 나는 녹아버릴 거야\\n\" \\\n",
    "    \"나는 대리암 염산과 반응하면 이산화탄소를 내며 녹는 대리암\\n\" \\\n",
    "    \"나는 대리암 염산과 반응하면 이산화탄소를 내며 녹는 대리암\\n\" \\\n",
    "    \"나는 대리암 염산과 반응하면 이산화탄소를 내며 녹는 대리암\\n\" \\\n",
    "    \"나는 대리암 염산과 반응하면 이산화탄소를 내며 녹는 대리암\\n\" \\\n",
    "    \"이것이 염산반응이다\\n\" \\\n",
    "    \"이것이 염산반응이다\\n\" \\\n",
    "    \"Hcl이다 CaCO3다\\n\" \\\n",
    "    \"2Hcl + CaCO3 -> CaCl2 +CO2 + H2O다.\\n\" \\\n",
    "    \"나는 대리암 염산과 반응하면 이산화탄소를 내며 녹는 대리암\\n\" \\\n",
    "    \"나는 대리암 염산과 반응하면 이산화탄소를 내며 녹는 대리암\\n\" \\\n",
    "    \"나는 대리암 나는 대리암\"\n",
    "\n",
    "a = \"나는 대리암 염산과 반응하면 이산화탄소를 내며 녹는 대리암\\n\"\n",
    "b = \"그간 많은 stress 견뎌내며 비로소 대리암이 되었다네\\n\"\n",
    "c = \"모든 게 완벽했던 그 어느 날 난 너를 만나게 된 거야\\n\"\n",
    "d = \"나를 보고 웃기라도 하는 날엔 하루 종일 아무것도 할 수 없네\\n\"\n",
    "e = \"그 눈으로 날 똑바로 바라보면 나는 녹아버릴 거야\\n\"\n",
    "f = \"이것이 염산반응이다\\n\"\n",
    "g = \"Hcl이다 CaCO3다\\n\"\n",
    "h = \"2Hcl + CaCO3 -> CaCl2 +CO2 + H2O다.\\n\"\n",
    "i = \"나는 대리암\"\n",
    "answer = a * 2 + b + c * 2 + a * 2 + d + e  + a * 4 + f * 2 + g + h + a * 2 + (i + \" \") * 2\n",
    "print(answer)"
   ]
  },
  {
   "cell_type": "code",
   "execution_count": 37,
   "metadata": {
    "scrolled": true
   },
   "outputs": [
    {
     "name": "stdout",
     "output_type": "stream",
     "text": [
      "세 번째 '대리암' 위치 : 36\n",
      "'대리암' 횟수: 23\n"
     ]
    }
   ],
   "source": [
    "# 연습문제 2): 가사에서 “대리암”이 몇 번 나오는지, 세 번째로 나오는 위치는 어디인지 찾아보세요.\n",
    "\n",
    "count = 0\n",
    "ind = 0\n",
    "while ind != -1:\n",
    "    ind = answer.find(\"대리암\", ind + 1)\n",
    "\n",
    "    if ind != -1:\n",
    "        count += 1\n",
    "    if count == 3:\n",
    "        print(\"세 번째 '대리암' 위치 :\", ind)\n",
    "print(\"'대리암' 횟수:\", count)"
   ]
  },
  {
   "cell_type": "code",
   "execution_count": 38,
   "metadata": {},
   "outputs": [
    {
     "name": "stdout",
     "output_type": "stream",
     "text": [
      "나는 석회암 염산과 반응하면 이산화탄소를 내며 녹는 석회암\n",
      "나는 석회암 염산과 반응하면 이산화탄소를 내며 녹는 석회암\n",
      "그간 많은 stress 견뎌내며 비로소 석회암이 되었다네\n",
      "모든 게 완벽했던 그 어느 날 난 너를 만나게 된 거야\n",
      "모든 게 완벽했던 그 어느 날 난 너를 만나게 된 거야\n",
      "나는 석회암 염산과 반응하면 이산화탄소를 내며 녹는 석회암\n",
      "나는 석회암 염산과 반응하면 이산화탄소를 내며 녹는 석회암\n",
      "나를 보고 웃기라도 하는 날엔 하루 종일 아무것도 할 수 없네\n",
      "그 눈으로 날 똑바로 바라보면 나는 녹아버릴 거야\n",
      "나는 석회암 염산과 반응하면 이산화탄소를 내며 녹는 석회암\n",
      "나는 석회암 염산과 반응하면 이산화탄소를 내며 녹는 석회암\n",
      "나는 석회암 염산과 반응하면 이산화탄소를 내며 녹는 석회암\n",
      "나는 석회암 염산과 반응하면 이산화탄소를 내며 녹는 석회암\n",
      "이것이 염산반응이다\n",
      "이것이 염산반응이다\n",
      "Hcl이다 CaCO3다\n",
      "2Hcl + CaCO3 -> CaCl2 +CO2 + H2O다.\n",
      "나는 석회암 염산과 반응하면 이산화탄소를 내며 녹는 석회암\n",
      "나는 석회암 염산과 반응하면 이산화탄소를 내며 녹는 석회암\n",
      "나는 석회암 나는 석회암 \n"
     ]
    }
   ],
   "source": [
    "#연습문제 3) 가사에서 “대리암”을 “석회암”으로 바꿔보세오.\n",
    "change = answer.replace(\"대리암\", \"석회암\")\n",
    "print(change)"
   ]
  },
  {
   "cell_type": "code",
   "execution_count": null,
   "metadata": {},
   "outputs": [],
   "source": []
  }
 ],
 "metadata": {
  "kernelspec": {
   "display_name": "Python 3",
   "language": "python",
   "name": "python3"
  },
  "language_info": {
   "codemirror_mode": {
    "name": "ipython",
    "version": 3
   },
   "file_extension": ".py",
   "mimetype": "text/x-python",
   "name": "python",
   "nbconvert_exporter": "python",
   "pygments_lexer": "ipython3",
   "version": "3.7.4"
  }
 },
 "nbformat": 4,
 "nbformat_minor": 4
}
