{
 "cells": [
  {
   "cell_type": "code",
   "execution_count": 1,
   "metadata": {},
   "outputs": [
    {
     "ename": "NameError",
     "evalue": "name 'a' is not defined",
     "output_type": "error",
     "traceback": [
      "\u001b[1;31m---------------------------------------------------------------------------\u001b[0m",
      "\u001b[1;31mNameError\u001b[0m                                 Traceback (most recent call last)",
      "\u001b[1;32m<ipython-input-1-eae328aca459>\u001b[0m in \u001b[0;36m<module>\u001b[1;34m\u001b[0m\n\u001b[1;32m----> 1\u001b[1;33m \u001b[1;32mif\u001b[0m \u001b[0ma\u001b[0m \u001b[1;33m==\u001b[0m \u001b[1;36m1\u001b[0m\u001b[1;33m:\u001b[0m\u001b[1;33m\u001b[0m\u001b[1;33m\u001b[0m\u001b[0m\n\u001b[0m\u001b[0;32m      2\u001b[0m     \u001b[0mprint\u001b[0m\u001b[1;33m(\u001b[0m\u001b[1;36m1\u001b[0m\u001b[1;33m)\u001b[0m\u001b[1;33m\u001b[0m\u001b[1;33m\u001b[0m\u001b[0m\n\u001b[0;32m      3\u001b[0m \u001b[1;32mfor\u001b[0m \u001b[0ma\u001b[0m \u001b[1;32min\u001b[0m \u001b[0mrange\u001b[0m\u001b[1;33m(\u001b[0m\u001b[1;36m10\u001b[0m\u001b[1;33m)\u001b[0m\u001b[1;33m:\u001b[0m\u001b[1;33m\u001b[0m\u001b[1;33m\u001b[0m\u001b[0m\n\u001b[0;32m      4\u001b[0m     \u001b[0mprint\u001b[0m\u001b[1;33m(\u001b[0m\u001b[0ma\u001b[0m\u001b[1;33m)\u001b[0m\u001b[1;33m\u001b[0m\u001b[1;33m\u001b[0m\u001b[0m\n",
      "\u001b[1;31mNameError\u001b[0m: name 'a' is not defined"
     ]
    }
   ],
   "source": [
    "if a == 1:\n",
    "    print(1)\n",
    "for a in range(10):\n",
    "    print(a)"
   ]
  },
  {
   "cell_type": "code",
   "execution_count": null,
   "metadata": {},
   "outputs": [],
   "source": [
    "mylist = ['abc', 'bc', 'cde']\n",
    "if 'abc' in mylist:\n",
    "    print(\"abc is in mylist\")\n",
    "for v in mylist:\n",
    "    if v.startswith('a') and len(v) > 1:\n",
    "        print(v)"
   ]
  },
  {
   "cell_type": "code",
   "execution_count": null,
   "metadata": {},
   "outputs": [],
   "source": [
    "print(\"Hello python\")"
   ]
  },
  {
   "cell_type": "code",
   "execution_count": null,
   "metadata": {},
   "outputs": [],
   "source": [
    "a = \"hello\"\n",
    "print(\"type:\", type(a), \"value:\", a)"
   ]
  },
  {
   "cell_type": "code",
   "execution_count": null,
   "metadata": {},
   "outputs": [],
   "source": [
    "a = 1234\n",
    "print(\"type:\", type(a), \"value:\", a)"
   ]
  },
  {
   "cell_type": "code",
   "execution_count": null,
   "metadata": {},
   "outputs": [],
   "source": [
    "a = 1.234\n",
    "print(\"type:\", type(a), \"value:\", a)"
   ]
  },
  {
   "cell_type": "code",
   "execution_count": null,
   "metadata": {},
   "outputs": [],
   "source": [
    "a = True\n",
    "print(\"type:\", type(a), \"value:\", a)"
   ]
  },
  {
   "cell_type": "code",
   "execution_count": null,
   "metadata": {},
   "outputs": [],
   "source": [
    "import sys\n",
    "a = 135.68\n",
    "b = 15\n",
    "print(\"float\", type(a), sys.getsizeof(a))\n",
    "print(\"integer\", type(b), sys.getsizeof(b))"
   ]
  },
  {
   "cell_type": "code",
   "execution_count": null,
   "metadata": {},
   "outputs": [],
   "source": [
    "print(a + b)\n",
    "print(a - b)\n",
    "print(a * b)\n",
    "print(a / b)"
   ]
  },
  {
   "cell_type": "code",
   "execution_count": null,
   "metadata": {},
   "outputs": [],
   "source": [
    "print(b ** 3)\n",
    "print(a % b)\n",
    "print(a // b)"
   ]
  },
  {
   "cell_type": "code",
   "execution_count": null,
   "metadata": {},
   "outputs": [],
   "source": [
    "#연습문제: 1) 위 연산을 이용해서 13의 3승을 16진수로 표현하시오.\n",
    "a = 13 ** 3\n",
    "print(a)\n",
    "b = a % 16\n",
    "print(b)\n",
    "c = a // 16\n",
    "print(c)\n",
    "d = c % 16\n",
    "print(d)\n",
    "e = c // 16\n",
    "print(e)\n",
    "print(\"16진수:\", e, d, b)"
   ]
  },
  {
   "cell_type": "code",
   "execution_count": null,
   "metadata": {},
   "outputs": [],
   "source": [
    "print(\"if statements\")\n",
    "if 13 ** 3 > 50 **2:\n",
    "    print(\"13**2 > 50**2\")\n",
    "elif 13 ** 3 != 2197:\n",
    "    print(\"13**3 != 2197\")\n",
    "elif 13 ** 3 >= 30 **2:\n",
    "    print(\"13**3 >= 30**2\")\n",
    "else:\n",
    "    print(\"13**3 < 30**2\")"
   ]
  },
  {
   "cell_type": "code",
   "execution_count": null,
   "metadata": {},
   "outputs": [],
   "source": [
    "print(\"\\nWhat is difference between `is` and `==`?\")\n",
    "print(\"little difference for built-in types(int, float, str)\")\n",
    "intvar = 12\n",
    "print(\"intvar == 12:\", intvar == 12)\n",
    "print(\"intvar is 12:\", intvar is 12)\n",
    "boolvar = True\n",
    "print(\"boolvar == True:\", boolvar == True)\n",
    "print(\"boolvar is True:\", boolvar is True)"
   ]
  },
  {
   "cell_type": "code",
   "execution_count": null,
   "metadata": {},
   "outputs": [],
   "source": [
    "print(\"big difference for object types\")\n",
    "foo = [1, 2]\n",
    "bar = [1, 2]\n",
    "print(\"foo == bar:\", foo == bar)\n",
    "print(\"foo is bar:\", foo is bar)\n",
    "goo = bar\n",
    "goo[0] = 0\n",
    "print(\"bar, goo:\", bar, goo)\n",
    "print(\"foo == goo\", foo == goo)\n",
    "print(\"bar is goo\", bar is goo)"
   ]
  },
  {
   "cell_type": "code",
   "execution_count": null,
   "metadata": {},
   "outputs": [],
   "source": [
    "value = 10\n",
    "if value % 2 == 0 and value < 12:\n",
    "    print(\"value is even and less than 12\")\n",
    "if value % 2 != 0 or value < 0:\n",
    "    print(\"value is odd or negative\")"
   ]
  },
  {
   "cell_type": "code",
   "execution_count": null,
   "metadata": {},
   "outputs": [],
   "source": [
    "string1 = \"Life is too short\"\n",
    "string2 = 'You need python'\n",
    "print(\"type(string1):\", type(string1))\n",
    "print(\"Life 'is' too short\")\n",
    "print('You \"need\" python')"
   ]
  },
  {
   "cell_type": "code",
   "execution_count": null,
   "metadata": {},
   "outputs": [],
   "source": [
    "print(\"Life \\\"is\\\" too short,\\nYou \\'need\\' python\")\n",
    "print(\"안녕? 파이썬\")"
   ]
  },
  {
   "cell_type": "code",
   "execution_count": null,
   "metadata": {},
   "outputs": [],
   "source": [
    "print(\"날 \" + (\"너무\" * 3 + \" \")*5  + \"좋아하면 그때 말해줘\")"
   ]
  },
  {
   "cell_type": "code",
   "execution_count": null,
   "metadata": {},
   "outputs": [],
   "source": [
    "print(\"내가 \" + (\"자꾸\" * 3 + \" \")*5 + \"떠오르면 그때 불러줘\")"
   ]
  },
  {
   "cell_type": "code",
   "execution_count": null,
   "metadata": {},
   "outputs": [],
   "source": [
    "#string = \"hello python\"\n",
    "#string[시작인덱스:끝인덱스]\n",
    "#string[0:5] = \"hello\"\n",
    "#0 <= index < 5"
   ]
  },
  {
   "cell_type": "code",
   "execution_count": null,
   "metadata": {},
   "outputs": [],
   "source": [
    "text = \"Life is too short, You need Python\"\n",
    "print(\"index t:\", text[8], text[16], text[30], text[-4])"
   ]
  },
  {
   "cell_type": "code",
   "execution_count": null,
   "metadata": {},
   "outputs": [],
   "source": [
    "print(\"slice 'Life':\", text[0:4])\n",
    "print(\"slice 'Life':\", text[:4])\n",
    "print(\"slice 'short':\", text[12:17])"
   ]
  },
  {
   "cell_type": "code",
   "execution_count": null,
   "metadata": {},
   "outputs": [],
   "source": [
    "print(\"slice 'Python':\", text[28:])\n",
    "print(\"slice 'need'\", text[23:27])\n",
    "print(\"slice 'need'\", text[23:-7])"
   ]
  },
  {
   "cell_type": "code",
   "execution_count": null,
   "metadata": {},
   "outputs": [],
   "source": [
    "print(\"\\n\" + \"=\"*30)\n",
    "print(\"String formatting 1: %\")\n",
    "print(\"class: %s\" % \"warrior\")\n",
    "print(\"HP: %d\" % 100)\n",
    "print(\"DPS: %f\" % 1456.23)"
   ]
  },
  {
   "cell_type": "code",
   "execution_count": null,
   "metadata": {},
   "outputs": [],
   "source": [
    "_class = \"warrior\"\n",
    "HP = 100\n",
    "DPS = 1456.23\n",
    "pattern = \"class: %10s, HP: %5d, DPS: %10.3f\"\n",
    "#char_intro1 = \"class: %10s, HP: %5d, DPS: %10.3f\" % (_class, HP, DPS)\n",
    "#char_intro2 = \"class: %10s, HP: %5d, DPS: %10.3f\" % (\"healer\", 1, 10.1)\n",
    "char_intro1 = pattern % (_class, HP, DPS)\n",
    "char_intro2 = pattern % (\"healer\", 1, 10.1)\n",
    "\n",
    "print(char_intro1)\n",
    "print(char_intro2)"
   ]
  },
  {
   "cell_type": "code",
   "execution_count": null,
   "metadata": {},
   "outputs": [],
   "source": [
    "print(\"\\n\" + \"=\"*30)\n",
    "print(\"String formatting 2: {}.format()\")\n",
    "print(\"class: {}\".format(\"warrior\"))\n",
    "print(\"HP: {}\".format(100))\n",
    "print(\"DPS: {}\".format(1456.23))"
   ]
  },
  {
   "cell_type": "code",
   "execution_count": null,
   "metadata": {},
   "outputs": [],
   "source": [
    "_class = \"warrior\"\n",
    "HP = 100\n",
    "DPS = 1456.23\n",
    "pattern = \"class: {:<10}, HP: {:>5}, DPS: {:>10.3f}\"\n",
    "char_intro = pattern.format(_class, HP, DPS)\n",
    "print(char_intro)\n",
    "print(pattern.format(\"healer\", 200, 834.79))"
   ]
  },
  {
   "cell_type": "code",
   "execution_count": null,
   "metadata": {},
   "outputs": [],
   "source": [
    "print(\"\\n\" + \"=\"*30)\n",
    "_class = \"warrior\"\n",
    "HP = 100\n",
    "DPS = 1456.23\n",
    "char_intro = f\"class: {_class}, HP: {HP}, DPS: {DPS}\"\n",
    "print(char_intro)\n",
    "char_intro = f\"class: {'healer':<10}, HP: {200:<5}, DPS: {834.79:<10.3f}\"\n",
    "print(char_intro)"
   ]
  },
  {
   "cell_type": "code",
   "execution_count": null,
   "metadata": {},
   "outputs": [],
   "source": [
    "print(\"\\n\" + \"=\"*30)\n",
    "print(\"str class functions\")\n",
    "print(\"count substring\")\n",
    "print(\"count '너무':\", \"날 너무너무너무\".count('너무'))\n",
    "text = \"날 \" + (\"너무\" * 3 + \" \")*5 + \"좋아하면 그때 말해줘\"\n",
    "print(\"count '너무':\", text.count('너무'))"
   ]
  },
  {
   "cell_type": "code",
   "execution_count": null,
   "metadata": {},
   "outputs": [],
   "source": [
    "print(\"\\nfind substring\")\n",
    "text = \"For the python, of the python, by the python\"\n",
    "pyind = text.find(\"py\", 0)\n",
    "print(f\"'py' found at {pyind} in `{text}`\")\n",
    "pyind = text.find(\"py\", pyind + 1)\n",
    "print(f\"'py' found at {pyind} in `{text}`\")\n",
    "pyind = text.find(\"py\", pyind + 1)\n",
    "print(f\"'py' found at {pyind} in `{text}`\")\n",
    "pyind = text.find(\"ruby\")\n",
    "print(f\"'ruby' found at {pyind} in `{text}`\")"
   ]
  },
  {
   "cell_type": "code",
   "execution_count": null,
   "metadata": {},
   "outputs": [],
   "source": [
    "pyind = text.index(\"py\")\n",
    "print(f\"'py' indexed at {pyind} in `{text}`\")\n",
    "pyind = text.index(\"py\", pyind+1)\n",
    "print(f\"'py' indexed at {pyind} in `{text}`\")\n",
    "pyind = text.index(\"py\", pyind+1)\n",
    "print(f\"'py' indexed at {pyind} in `{text}`\")"
   ]
  },
  {
   "cell_type": "code",
   "execution_count": null,
   "metadata": {},
   "outputs": [],
   "source": [
    "try:\n",
    "    pyind = text.index(\"ruby\")\n",
    "    print(f\"'ruby' found at {pyind} in `{text}`\")\n",
    "except ValueError as ve:\n",
    "    print(\"'ruby' not indexed, value error:\", ve)"
   ]
  },
  {
   "cell_type": "code",
   "execution_count": null,
   "metadata": {},
   "outputs": [],
   "source": [
    "print(\"\\nuppper and lower case\")\n",
    "mixed = \"PYthon\"\n",
    "small = \"python\"\n",
    "print(mixed.lower(), mixed.upper())\n",
    "print(f\"compare {mixed} and {small}\")\n",
    "print(f\"{mixed} == {small}:\", mixed == small)\n",
    "print(f\"{mixed}.lower() == {small}:\", mixed.lower() == small)\n",
    "print(f\"{mixed}.upper() == {small}.upper():\", mixed.upper() == small.upper())\n",
    "print(f\"{mixed}.lower() is {small}.lower():\", mixed.lower() is small.lower())"
   ]
  },
  {
   "cell_type": "code",
   "execution_count": null,
   "metadata": {},
   "outputs": [],
   "source": [
    "print(\"\\nstrip string\")\n",
    "wise_saying = ' \"Walking on water and developing software ' \\\n",
    "            'from a specification are easy if both are frozen...\" '\n",
    "print(wise_saying)\n",
    "wise_saying = wise_saying.strip()\n",
    "print(wise_saying)\n",
    "wise_saying = wise_saying.strip('\\\"')\n",
    "print(wise_saying)\n",
    "wise_saying = wise_saying.rstrip('.')\n",
    "print(wise_saying)"
   ]
  },
  {
   "cell_type": "code",
   "execution_count": null,
   "metadata": {},
   "outputs": [],
   "source": [
    "print(\"\\nreplace string\")\n",
    "Lincoln_said = \"for the people, by the people, of the people\"\n",
    "We_say = Lincoln_said.replace(\"people\", \"python\")\n",
    "Simply_say = We_say.replace(\"the \", \"\")\n",
    "print(\"Lincoln said:\", Lincoln_said)\n",
    "print(\"We say:\", We_say)\n",
    "Simply_say = We_say.replace(\"the\", \"\")\n",
    "print(\"Simply say:\", Simply_say)"
   ]
  },
  {
   "cell_type": "code",
   "execution_count": null,
   "metadata": {},
   "outputs": [],
   "source": [
    "print(\"\\nsplit string into list of substrings\")\n",
    "print(\"split by words:\", We_say.split(\" \"))\n",
    "print(\"split by phrase:\", We_say.split(\",\"))"
   ]
  },
  {
   "cell_type": "code",
   "execution_count": null,
   "metadata": {},
   "outputs": [],
   "source": [
    "#연습문제 : 1) “대리암”의 가사를 문자열 연산을 통해 만들어 보세오.\n"
   ]
  },
  {
   "cell_type": "code",
   "execution_count": null,
   "metadata": {},
   "outputs": [],
   "source": []
  }
 ],
 "metadata": {
  "kernelspec": {
   "display_name": "Python 3",
   "language": "python",
   "name": "python3"
  },
  "language_info": {
   "codemirror_mode": {
    "name": "ipython",
    "version": 3
   },
   "file_extension": ".py",
   "mimetype": "text/x-python",
   "name": "python",
   "nbconvert_exporter": "python",
   "pygments_lexer": "ipython3",
   "version": "3.7.4"
  }
 },
 "nbformat": 4,
 "nbformat_minor": 4
}
