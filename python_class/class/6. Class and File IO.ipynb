{
 "cells": [
  {
   "cell_type": "code",
   "execution_count": 1,
   "metadata": {},
   "outputs": [
    {
     "name": "stdout",
     "output_type": "stream",
     "text": [
      "dangdang: Wal! Wal!\n",
      "dangdang is at 10\n",
      "current position: 10\n"
     ]
    }
   ],
   "source": [
    "class Dog:\n",
    "    def __init__(self, name):\n",
    "        self.name = name\t# declare member variables\n",
    "        self.position = 0\n",
    "    def bark(self):\n",
    "        print(f\"{self.name}: Wal! Wal!\")\n",
    "    def move(self, distance):\n",
    "        self.position += distance\n",
    "        print(f\"{self.name} is at {self.position}\")\n",
    "\n",
    "puppy = Dog(\"dangdang\")\n",
    "puppy.bark()\t# => dangdang: Wal! Wal!\n",
    "puppy.move(10)\t# => dangdang is at 10\n",
    "print(\"current position:\", puppy.position)"
   ]
  },
  {
   "cell_type": "code",
   "execution_count": 4,
   "metadata": {},
   "outputs": [
    {
     "name": "stdout",
     "output_type": "stream",
     "text": [
      "===== object oriented programming\n",
      "my name is cow1\n",
      "ummer~~~\n",
      "my name is ani\n",
      "...\n",
      "my name is cow2\n",
      "ummer~~~\n",
      "my name is cat\n",
      "nyaong~~\n"
     ]
    }
   ],
   "source": [
    "print(\"===== object oriented programming\")\n",
    "class Animal:\n",
    "    def __init__(self, name):\n",
    "        self.name = name\n",
    "    def introduce(self):\n",
    "        print(\"my name is\", self.name)\n",
    "    def sound(self):\n",
    "        print(\"...\")\n",
    "class Cow(Animal):\n",
    "    def __init__(self, name):\n",
    "        super().__init__(name)\n",
    "    def sound(self):\n",
    "        print(\"ummer~~~\")\n",
    "class Cat(Animal):\n",
    "    def __init__(self, name):\n",
    "        super().__init__(name)\n",
    "    def sound(self):\n",
    "        print(\"nyaong~~\")\n",
    "\n",
    "cow = Cow(\"cow1\")\n",
    "cow.introduce()\n",
    "cow.sound()\n",
    "animals = [Animal(\"ani\"), Cow(\"cow2\"), Cat(\"cat\")]\n",
    "for ani in animals:\n",
    "    ani.introduce()\n",
    "    ani.sound()"
   ]
  },
  {
   "cell_type": "code",
   "execution_count": 8,
   "metadata": {},
   "outputs": [
    {
     "name": "stdout",
     "output_type": "stream",
     "text": [
      "file was written\n"
     ]
    }
   ],
   "source": [
    "fout = open(\"testfile.txt\", \"w\", encoding='UTF-8')\n",
    "fout.write(\"I think Microsoft named .Net so it wouldn’t show up in a Unix directory listing.\")\n",
    "fout.close()\n",
    "print(\"file was written\")"
   ]
  },
  {
   "cell_type": "code",
   "execution_count": 6,
   "metadata": {},
   "outputs": [
    {
     "name": "stdout",
     "output_type": "stream",
     "text": [
      "I think Microsoft named .Net so it wouldn’t show up in a Unix directory listing.\n"
     ]
    }
   ],
   "source": [
    "fin = open(\"testfile.txt\", \"r\")\n",
    "contents = fin.read()\n",
    "fin.close()\n",
    "print(contents)"
   ]
  },
  {
   "cell_type": "code",
   "execution_count": 10,
   "metadata": {},
   "outputs": [
    {
     "name": "stdout",
     "output_type": "stream",
     "text": [
      "check closed under 'with': False\n",
      "I think Microsoft named .Net so it wouldn’t show up in a Unix directory listing.\n",
      "check closed outside 'with': True\n"
     ]
    }
   ],
   "source": [
    "with open(\"testfile.txt\", \"r\", encoding='UTF-8') as fr:\n",
    "    data = fr.read()\n",
    "    print(\"check closed under 'with':\", fr.closed)\n",
    "    print(data)\n",
    "\n",
    "print(\"check closed outside 'with':\", fr.closed)"
   ]
  },
  {
   "cell_type": "code",
   "execution_count": 14,
   "metadata": {},
   "outputs": [
    {
     "name": "stdout",
     "output_type": "stream",
     "text": [
      "\n",
      "write lyrics into file\n"
     ]
    }
   ],
   "source": [
    "springx3 = [\"봄 봄 봄 봄이 왔네요\",\n",
    "            \"우리가 처음 만났던 그때의 향기 그대로\",\n",
    "            \"그대가 앉아 있었던 그 벤치 옆에 나무도 아직도 남아있네요\",\n",
    "            \"살아가다 보면 잊혀질 거라 했지만\",\n",
    "            \"그 말을 하면 안될거란걸 알고 있었소\",\n",
    "            \"그대여 너를 처음 본 순간 나는 바로 알았지\",\n",
    "            \"그대여 나와 함께 해주오 이 봄이 가기 전에\"]\n",
    "\n",
    "print(\"\\nwrite lyrics into file\")\n",
    "with open(\"springx3.txt\", \"w\") as f:\n",
    "    for i, line in enumerate(springx3):\n",
    "        f.write(f\"{i:2}:\" + line + \"\\n\")"
   ]
  },
  {
   "cell_type": "code",
   "execution_count": 15,
   "metadata": {},
   "outputs": [
    {
     "name": "stdout",
     "output_type": "stream",
     "text": [
      "use read\n",
      " 0:봄 봄 봄 봄이 왔네요\n",
      " 1:우리가 처음 만났던 그때의 향기 그대로\n",
      " 2:그대가 앉아 있었던 그 벤치 옆에 나무도 아직도 남아있네요\n",
      " 3:살아가다 보면 잊혀질 거라 했지만\n",
      " 4:그 말을 하면 안될거란걸 알고 있었소\n",
      " 5:그대여 너를 처음 본 순간 나는 바로 알았지\n",
      " 6:그대여 나와 함께 해주오 이 봄이 가기 전에\n",
      "\n"
     ]
    }
   ],
   "source": [
    "print(\"use read\")\n",
    "with open(\"springx3.txt\", \"r\" ) as f:\n",
    "    lyrics = f.read()\n",
    "    print(lyrics)"
   ]
  },
  {
   "cell_type": "code",
   "execution_count": 17,
   "metadata": {},
   "outputs": [
    {
     "name": "stdout",
     "output_type": "stream",
     "text": [
      "use readline\n",
      "[' 0:봄 봄 봄 봄이 왔네요', ' 1:우리가 처음 만났던 그때의 향기 그대로', ' 2:그대가 앉아 있었던 그 벤치 옆에 나무도 아직도 남아있네요', ' 3:살아가다 보면 잊혀질 거라 했지만', ' 4:그 말을 하면 안될거란걸 알고 있었소', ' 5:그대여 너를 처음 본 순간 나는 바로 알았지', ' 6:그대여 나와 함께 해주오 이 봄이 가기 전에']\n",
      " 0:봄 봄 봄 봄이 왔네요\n",
      " 1:우리가 처음 만났던 그때의 향기 그대로\n",
      " 2:그대가 앉아 있었던 그 벤치 옆에 나무도 아직도 남아있네요\n",
      " 3:살아가다 보면 잊혀질 거라 했지만\n",
      " 4:그 말을 하면 안될거란걸 알고 있었소\n",
      " 5:그대여 너를 처음 본 순간 나는 바로 알았지\n",
      " 6:그대여 나와 함께 해주오 이 봄이 가기 전에\n"
     ]
    }
   ],
   "source": [
    "print(\"use readline\")\n",
    "with open(\"springx3.txt\", \"r\") as f:\n",
    "    lyrics = []\n",
    "    line = f.readline()\n",
    "    while line:\n",
    "        line = line.rstrip(\"\\n\")\n",
    "        lyrics.append(line)\n",
    "        line = f.readline()\n",
    "print(lyrics)\n",
    "print(\"\\n\".join(lyrics))"
   ]
  },
  {
   "cell_type": "code",
   "execution_count": 20,
   "metadata": {},
   "outputs": [
    {
     "name": "stdout",
     "output_type": "stream",
     "text": [
      "use readlines\n",
      "[' 0:봄 봄 봄 봄이 왔네요\\n', ' 1:우리가 처음 만났던 그때의 향기 그대로\\n', ' 2:그대가 앉아 있었던 그 벤치 옆에 나무도 아직도 남아있네요\\n', ' 3:살아가다 보면 잊혀질 거라 했지만\\n', ' 4:그 말을 하면 안될거란걸 알고 있었소\\n', ' 5:그대여 너를 처음 본 순간 나는 바로 알았지\\n', ' 6:그대여 나와 함께 해주오 이 봄이 가기 전에\\n']\n",
      "[' 0:봄 봄 봄 봄이 왔네요', ' 1:우리가 처음 만났던 그때의 향기 그대로', ' 2:그대가 앉아 있었던 그 벤치 옆에 나무도 아직도 남아있네요', ' 3:살아가다 보면 잊혀질 거라 했지만', ' 4:그 말을 하면 안될거란걸 알고 있었소', ' 5:그대여 너를 처음 본 순간 나는 바로 알았지', ' 6:그대여 나와 함께 해주오 이 봄이 가기 전에']\n",
      " 0:봄 봄 봄 봄이 왔네요\n",
      " 1:우리가 처음 만났던 그때의 향기 그대로\n",
      " 2:그대가 앉아 있었던 그 벤치 옆에 나무도 아직도 남아있네요\n",
      " 3:살아가다 보면 잊혀질 거라 했지만\n",
      " 4:그 말을 하면 안될거란걸 알고 있었소\n",
      " 5:그대여 너를 처음 본 순간 나는 바로 알았지\n",
      " 6:그대여 나와 함께 해주오 이 봄이 가기 전에\n"
     ]
    }
   ],
   "source": [
    "print(\"use readlines\")\n",
    "with open(\"springx3.txt\", \"r\") as f:\n",
    "    lyrics = f.readlines()\n",
    "    print(lyrics)\n",
    "    lyrics = [line.rstrip(\"\\n\") for line in lyrics]\n",
    "    print(lyrics)\n",
    "    print(\"\\n\".join(lyrics))"
   ]
  },
  {
   "cell_type": "code",
   "execution_count": 28,
   "metadata": {},
   "outputs": [],
   "source": [
    "matrix_str = \"4 2\\n5 3\"\n",
    "with open(\"matrix.txt\", 'w') as f:\n",
    "    f.write(matrix_str)"
   ]
  },
  {
   "cell_type": "code",
   "execution_count": 35,
   "metadata": {},
   "outputs": [
    {
     "name": "stdout",
     "output_type": "stream",
     "text": [
      "['4 2', '5 3']\n",
      "[['4', '2'], ['5', '3']]\n",
      "[4, 2]\n",
      "[5, 3]\n",
      "[[4, 2], [5, 3]]\n",
      "determinant: 2\n"
     ]
    }
   ],
   "source": [
    "with open(\"matrix.txt\", 'r') as f:\n",
    "    matrix = f.readlines()\n",
    "    \n",
    "matrix = [line.rstrip(\"\\n\") for line in matrix]\n",
    "print(matrix)\n",
    "matrix = [line.split(\" \") for line in matrix]\n",
    "print(matrix)\n",
    "matrix_int = []\n",
    "for line in matrix:\n",
    "    line = [int(num) for num in line]\n",
    "    print(line)\n",
    "    matrix_int.append(line)\n",
    "print(matrix_int)\n",
    "matrix = matrix_int\n",
    "print(\"determinant:\", matrix[0][0]*matrix[1][1] - matrix[0][1]*matrix[1][0])"
   ]
  },
  {
   "cell_type": "code",
   "execution_count": null,
   "metadata": {},
   "outputs": [],
   "source": []
  }
 ],
 "metadata": {
  "kernelspec": {
   "display_name": "Python 3",
   "language": "python",
   "name": "python3"
  },
  "language_info": {
   "codemirror_mode": {
    "name": "ipython",
    "version": 3
   },
   "file_extension": ".py",
   "mimetype": "text/x-python",
   "name": "python",
   "nbconvert_exporter": "python",
   "pygments_lexer": "ipython3",
   "version": "3.7.4"
  }
 },
 "nbformat": 4,
 "nbformat_minor": 4
}
