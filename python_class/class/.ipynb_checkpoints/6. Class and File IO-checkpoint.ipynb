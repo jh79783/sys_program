{
 "cells": [
  {
   "cell_type": "code",
   "execution_count": 1,
   "metadata": {},
   "outputs": [
    {
     "name": "stdout",
     "output_type": "stream",
     "text": [
      "dangdang: Wal! Wal!\n",
      "dangdang is at 10\n",
      "current position: 10\n"
     ]
    }
   ],
   "source": [
    "class Dog:\n",
    "    def __init__(self, name):\n",
    "        self.name = name\t# declare member variables\n",
    "        self.position = 0\n",
    "    def bark(self):\n",
    "        print(f\"{self.name}: Wal! Wal!\")\n",
    "    def move(self, distance):\n",
    "        self.position += distance\n",
    "        print(f\"{self.name} is at {self.position}\")\n",
    "\n",
    "puppy = Dog(\"dangdang\")\n",
    "puppy.bark()\t# => dangdang: Wal! Wal!\n",
    "puppy.move(10)\t# => dangdang is at 10\n",
    "print(\"current position:\", puppy.position)"
   ]
  },
  {
   "cell_type": "code",
   "execution_count": null,
   "metadata": {},
   "outputs": [],
   "source": []
  },
  {
   "cell_type": "code",
   "execution_count": null,
   "metadata": {},
   "outputs": [],
   "source": []
  }
 ],
 "metadata": {
  "kernelspec": {
   "display_name": "Python 3",
   "language": "python",
   "name": "python3"
  },
  "language_info": {
   "codemirror_mode": {
    "name": "ipython",
    "version": 3
   },
   "file_extension": ".py",
   "mimetype": "text/x-python",
   "name": "python",
   "nbconvert_exporter": "python",
   "pygments_lexer": "ipython3",
   "version": "3.7.4"
  }
 },
 "nbformat": 4,
 "nbformat_minor": 4
}
